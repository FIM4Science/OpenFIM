{
 "cells": [
  {
   "cell_type": "markdown",
   "metadata": {},
   "source": [
    "# Solving a real problem using our model: The Discrete Flashing Ratchet (DFR)\n",
    "The following is adapted from {cite}`fim_mjp` and shows a step by step example for solving problems using our [trained model from Hugging Face](https://huggingface.co/FIM4Science/fim-mjp). This notebook is a detailed example of solving a physics problem using our model using the following approach:\n",
    "\n",
    "1. Understanding the problem\n",
    "2. Loading and understanding the data\n",
    "3. Using our model to infer the transition rates\n",
    "4. Using the inferred transition rates to solve the original problem \n",
    "\n",
    "\n"
   ]
  },
  {
   "cell_type": "markdown",
   "metadata": {},
   "source": [
    "In statistical physics, the ratchet effect refers to the rectification of thermal fluctuations into directed motion to produce work, and goes all the way back to Feynman {cite}`feynman1965feynman`.\n",
    "\n",
    "Here we consider a simple example thereof, in which a Brownian particle, immersed in a thermal bath at unit temperature, moves on a one-dimensional lattice.\n",
    "The particle is subject to a linear, periodic and asymmetric potential of maximum height $2V$ that is switched on and off at a constant rate $r$.\n",
    "The potential has three possible values when is switched on, which correspond to three of the states of the system. \n",
    "The particle jumps among them with rate $f_{ij}^{\\tiny{\\text{ on}}}$.\n",
    "\n",
    "When the potential is switched off, the particle jumps freely with rate $f_{ij}^{\\tiny{\\text{ off}}}$.\n",
    "We can therefore think of the system as a six-state system, as illustrated here: \n",
    "![](mjp_dlr.png)\n",
    "\n",
    "Similar to {cite}`roldan10`, we now define the transition rates as\n",
    "```{math}\n",
    "    f_{ij}^{\\tiny{\\text{on}}} = \\exp \\left( -\\frac{V}{2}(j-i)\\right), \\, \\, \\, \\text{for} \\, \\, i, j \\in (0, 1, 2); \\quad f_{ij}^{\\tiny{\\text{ off}}} = b, \\, \\, \\, \\text{for} \\, \\, i, j \\in (3, 4, 5).\n",
    "```\n",
    "Given these specifics, we consider the parameter set $(V, r, B) = (1, 1, 1)$  \n",
    "together with the dataset simulated by {cite}`neural_mjp`,"
   ]
  },
  {
   "cell_type": "markdown",
   "metadata": {},
   "source": [
    "So given our data, we want to recover the theoretical transition rates, as a q-matrix.[^footnote1]\n",
    "[^footnote1]: That is with the diagonal entries normalized to the negative sum of the transition rates"
   ]
  },
  {
   "cell_type": "code",
   "execution_count": 17,
   "metadata": {},
   "outputs": [],
   "source": [
    "import numpy as np\n",
    "np.set_printoptions(linewidth=100)\n",
    "\n",
    "rates_on=np.array([[np.exp(-0.5*(j-i))-1*(i==j) for j in range(3)] for i in range(3)])\n",
    "rates_off=np.ones(shape=(3,3))\n",
    "np.fill_diagonal(rates_off, 0)\n",
    "id3=np.eye(3)\n",
    "q_matrix=np.zeros(shape=(6,6))\n",
    "q_matrix[:3,:3]=rates_on\n",
    "q_matrix[3:,3:]=rates_off \n",
    "q_matrix[3:,:3]=id3\n",
    "q_matrix[:3,3:]=id3\n",
    "diagonal=-np.sum(q_matrix,axis=1)\n",
    "np.fill_diagonal(q_matrix, diagonal)"
   ]
  },
  {
   "cell_type": "code",
   "execution_count": 18,
   "metadata": {},
   "outputs": [
    {
     "data": {
      "text/plain": [
       "array([[-1.9744101 ,  0.60653066,  0.36787944,  1.        ,  0.        ,  0.        ],\n",
       "       [ 1.64872127, -3.25525193,  0.60653066,  0.        ,  1.        ,  0.        ],\n",
       "       [ 2.71828183,  1.64872127, -5.3670031 ,  0.        ,  0.        ,  1.        ],\n",
       "       [ 1.        ,  0.        ,  0.        , -3.        ,  1.        ,  1.        ],\n",
       "       [ 0.        ,  1.        ,  0.        ,  1.        , -3.        ,  1.        ],\n",
       "       [ 0.        ,  0.        ,  1.        ,  1.        ,  1.        , -3.        ]])"
      ]
     },
     "execution_count": 18,
     "metadata": {},
     "output_type": "execute_result"
    }
   ],
   "source": [
    "q_matrix"
   ]
  },
  {
   "cell_type": "markdown",
   "metadata": {},
   "source": [
    "## Loading and exploring the data\n",
    "We start by loading the simulated data from Hugging Face:"
   ]
  },
  {
   "cell_type": "code",
   "execution_count": 19,
   "metadata": {},
   "outputs": [
    {
     "data": {
      "application/vnd.jupyter.widget-view+json": {
       "model_id": "e1976194582f416382bcbdc864382b50",
       "version_major": 2,
       "version_minor": 0
      },
      "text/plain": [
       "mjp.py:   0%|          | 0.00/7.00k [00:00<?, ?B/s]"
      ]
     },
     "metadata": {},
     "output_type": "display_data"
    },
    {
     "name": "stderr",
     "output_type": "stream",
     "text": [
      "Repo card metadata block was not found. Setting CardData to empty.\n"
     ]
    },
    {
     "data": {
      "application/vnd.jupyter.widget-view+json": {
       "model_id": "dc38a8b3c6974de29134a63976475617",
       "version_major": 2,
       "version_minor": 0
      },
      "text/plain": [
       "6_st_DFR_V=1.zip:   0%|          | 0.00/253k [00:00<?, ?B/s]"
      ]
     },
     "metadata": {},
     "output_type": "display_data"
    },
    {
     "data": {
      "application/vnd.jupyter.widget-view+json": {
       "model_id": "dc63086991164fc98c0d0f53b074fb40",
       "version_major": 2,
       "version_minor": 0
      },
      "text/plain": [
       "Generating train split:   0%|          | 0/1 [00:00<?, ? examples/s]"
      ]
     },
     "metadata": {},
     "output_type": "display_data"
    }
   ],
   "source": [
    "# Loading the Discrete Flashing Ratchet (DFR) dataset from Huggingface\n",
    "from datasets import load_dataset\n",
    "import torch\n",
    "data = load_dataset(\"FIM4Science/mjp\", download_mode=\"force_redownload\", trust_remote_code=True, name=\"DFR_V=1\")\n",
    "data.set_format(\"torch\")"
   ]
  },
  {
   "cell_type": "markdown",
   "metadata": {},
   "source": [
    "The model will later use the 'observation_grid', 'observation_values', 'seq_lengths' features to estimate the transition rates."
   ]
  },
  {
   "cell_type": "markdown",
   "metadata": {},
   "source": [
    "Here the observation grid is constant over all paths, consisting of 100 evenly spaced points on $[0,1]$. The sequence lengths of the dataset is therefore just 100 for all paths."
   ]
  },
  {
   "cell_type": "code",
   "execution_count": 20,
   "metadata": {},
   "outputs": [
    {
     "data": {
      "text/plain": [
       "tensor([0.0000, 0.0101, 0.0202, 0.0303, 0.0404, 0.0505, 0.0606, 0.0707, 0.0808,\n",
       "        0.0909, 0.1010, 0.1111, 0.1212, 0.1313, 0.1414, 0.1515, 0.1616, 0.1717,\n",
       "        0.1818, 0.1919, 0.2020, 0.2121, 0.2222, 0.2323, 0.2424, 0.2525, 0.2626,\n",
       "        0.2727, 0.2828, 0.2929, 0.3030, 0.3131, 0.3232, 0.3333, 0.3434, 0.3535,\n",
       "        0.3636, 0.3737, 0.3838, 0.3939, 0.4040, 0.4141, 0.4242, 0.4343, 0.4444,\n",
       "        0.4545, 0.4646, 0.4747, 0.4848, 0.4949, 0.5051, 0.5152, 0.5253, 0.5354,\n",
       "        0.5455, 0.5556, 0.5657, 0.5758, 0.5859, 0.5960, 0.6061, 0.6162, 0.6263,\n",
       "        0.6364, 0.6465, 0.6566, 0.6667, 0.6768, 0.6869, 0.6970, 0.7071, 0.7172,\n",
       "        0.7273, 0.7374, 0.7475, 0.7576, 0.7677, 0.7778, 0.7879, 0.7980, 0.8081,\n",
       "        0.8182, 0.8283, 0.8384, 0.8485, 0.8586, 0.8687, 0.8788, 0.8889, 0.8990,\n",
       "        0.9091, 0.9192, 0.9293, 0.9394, 0.9495, 0.9596, 0.9697, 0.9798, 0.9899,\n",
       "        1.0000])"
      ]
     },
     "execution_count": 20,
     "metadata": {},
     "output_type": "execute_result"
    }
   ],
   "source": [
    "data[\"train\"][\"observation_grid\"][0,0,:,0]"
   ]
  },
  {
   "cell_type": "markdown",
   "metadata": {},
   "source": [
    "The observation values contain the state of the processes for all paths and all time points. \n",
    "```{warning} In practice these labels will rarely be directly observed values, since those will, in most cases, have to be computed as part of the preprocessing.\n",
    "```\n",
    "We can visualize the first 3 paths to get a feeling for the processes:"
   ]
  },
  {
   "cell_type": "code",
   "execution_count": null,
   "metadata": {},
   "outputs": [
    {
     "data": {
      "image/png": "[encoded data removed]",
      "text/plain": [
       "<Figure size 640x480 with 1 Axes>"
      ]
     },
     "metadata": {},
     "output_type": "display_data"
    }
   ],
   "source": [
    "import  matplotlib.pyplot as plt\n",
    "ts=data[\"train\"][\"observation_grid\"][0,0,:,0]\n",
    "three_paths=data[\"train\"][\"observation_values\"][0,:3,:,0]\n",
    "for i in range(3):\n",
    "    plt.plot(ts,three_paths[i],\"x--\")\n",
    "plt.show()"
   ]
  },
  {
   "cell_type": "markdown",
   "metadata": {},
   "source": [
    "## Inferring transition rates\n",
    "\n",
    "To infer the $q$-matrix we first load our trained model:"
   ]
  },
  {
   "cell_type": "code",
   "execution_count": 22,
   "metadata": {},
   "outputs": [
    {
     "data": {
      "text/plain": [
       "FIMMJP(\n",
       "  (gaussian_nll): GaussianNLLLoss()\n",
       "  (init_cross_entropy): CrossEntropyLoss()\n",
       "  (pos_encodings): DeltaTimeEncoding()\n",
       "  (ts_encoder): RNNEncoder(\n",
       "    (rnn): LSTM(8, 256, batch_first=True, bidirectional=True)\n",
       "  )\n",
       "  (path_attention): MultiHeadLearnableQueryAttention(\n",
       "    (W_k): Linear(in_features=512, out_features=128, bias=False)\n",
       "    (W_v): Linear(in_features=512, out_features=128, bias=False)\n",
       "  )\n",
       "  (intensity_matrix_decoder): MLP(\n",
       "    (layers): Sequential(\n",
       "      (linear_0): Linear(in_features=2049, out_features=128, bias=True)\n",
       "      (activation_0): SELU()\n",
       "      (linear_1): Linear(in_features=128, out_features=128, bias=True)\n",
       "      (activation_1): SELU()\n",
       "      (output): Linear(in_features=128, out_features=60, bias=True)\n",
       "    )\n",
       "  )\n",
       "  (initial_distribution_decoder): MLP(\n",
       "    (layers): Sequential(\n",
       "      (linear_0): Linear(in_features=2049, out_features=128, bias=True)\n",
       "      (activation_0): SELU()\n",
       "      (linear_1): Linear(in_features=128, out_features=128, bias=True)\n",
       "      (activation_1): SELU()\n",
       "      (output): Linear(in_features=128, out_features=6, bias=True)\n",
       "    )\n",
       "  )\n",
       ")"
      ]
     },
     "execution_count": 22,
     "metadata": {},
     "output_type": "execute_result"
    }
   ],
   "source": [
    "from transformers import AutoModel\n",
    "from fim.trainers.utils import get_accel_type\n",
    "device = get_accel_type()\n",
    "fimmjp = AutoModel.from_pretrained(\"FIM4Science/fim-mjp\", trust_remote_code=True)\n",
    "\n",
    "fimmjp = fimmjp.to(device)\n",
    "fimmjp.eval()"
   ]
  },
  {
   "cell_type": "markdown",
   "metadata": {},
   "source": [
    "As noted in {cite}`fim_mjp`[^footnote2] it suffices to look at a small context window of 300 paths with 50 observation values each. We therefore infer the \n",
    "transition rates batchwise to demonstrate how little data might be needed. \n",
    "\n",
    "[^footnote2]: Section 4.1 and E.4"
   ]
  },
  {
   "cell_type": "code",
   "execution_count": 23,
   "metadata": {},
   "outputs": [],
   "source": [
    "# copy data to device\n",
    "batch = {k: v.to(device) for k, v in data[\"train\"][:1].items() if not k in [\"intensity_matrices\",\"adjacency_matrices\",\"initial_distributions\"]}  # data without any information, we seek to find\n",
    "\n",
    "n_paths = 300\n",
    "total_n_paths = batch[\"observation_grid\"].shape[1]\n",
    "statistics = 50\n",
    "\n",
    "outputs=[]\n",
    "\n",
    "with torch.no_grad():\n",
    "    for _ in range(statistics):\n",
    "        paths_idx = torch.randperm(total_n_paths)[:n_paths]\n",
    "        mini_batch = batch.copy()\n",
    "        mini_batch[\"observation_grid\"] = batch[\"observation_grid\"][:, paths_idx]\n",
    "        mini_batch[\"observation_values\"] = batch[\"observation_values\"][:, paths_idx]\n",
    "        mini_batch[\"seq_lengths\"] = batch[\"seq_lengths\"][:, paths_idx]\n",
    "        outputs.append(fimmjp(mini_batch, n_states=6)[\"intensity_matrices\"])# We are currently not interested in variances or initial conditions"
   ]
  },
  {
   "cell_type": "code",
   "execution_count": 24,
   "metadata": {},
   "outputs": [],
   "source": [
    "mean_rates=torch.mean(torch.stack(outputs,dim=0),dim=0)[0].numpy()"
   ]
  },
  {
   "cell_type": "markdown",
   "metadata": {},
   "source": [
    "This results in the following inferred transition rates:"
   ]
  },
  {
   "cell_type": "code",
   "execution_count": 25,
   "metadata": {},
   "outputs": [
    {
     "name": "stdout",
     "output_type": "stream",
     "text": [
      "[[-1.9245015   0.55113333  0.36456966  0.93345237  0.03710616  0.03824015]\n",
      " [ 1.6171503  -3.2775452   0.61087835  0.06168525  0.9304655   0.05736557]\n",
      " [ 2.636796    1.5451566  -5.3869033   0.18048435  0.15411782  0.870348  ]\n",
      " [ 0.8817578   0.05446659  0.0677565  -3.0251112   1.0477502   0.9733799 ]\n",
      " [ 0.04827555  0.9522236   0.06753144  0.9306938  -3.028059    1.0293349 ]\n",
      " [ 0.07460413  0.05660873  0.99014956  0.97626424  0.9510342  -3.048661  ]]\n"
     ]
    },
    {
     "data": {
      "image/png": "[encoded data removed]",
      "text/plain": [
       "<Figure size 480x480 with 2 Axes>"
      ]
     },
     "metadata": {},
     "output_type": "display_data"
    }
   ],
   "source": [
    "mean_rates=torch.mean(torch.stack(outputs,dim=0),dim=0)[0].numpy()\n",
    "print(mean_rates)\n",
    "plt.matshow(mean_rates)\n",
    "plt.colorbar()\n",
    "plt.show()"
   ]
  },
  {
   "cell_type": "markdown",
   "metadata": {},
   "source": [
    "and the following variances:"
   ]
  },
  {
   "cell_type": "code",
   "execution_count": 26,
   "metadata": {},
   "outputs": [
    {
     "name": "stdout",
     "output_type": "stream",
     "text": [
      "[[8.9214062e-03 2.6720339e-03 3.1652483e-03 4.1379966e-03 2.3186094e-05 2.1430538e-05]\n",
      " [1.3193432e-02 2.8911315e-02 8.1903962e-03 6.8010602e-05 1.3663956e-02 8.2808678e-05]\n",
      " [3.7446193e-02 4.9765039e-02 1.4255807e-01 4.6815246e-04 3.5645498e-04 2.6406100e-02]\n",
      " [7.8914184e-03 4.2086365e-05 1.0195007e-04 3.0733885e-02 1.0102886e-02 6.7557627e-03]\n",
      " [3.2917895e-05 9.4426861e-03 8.3530998e-05 5.5550616e-03 2.3043724e-02 1.0851575e-02]\n",
      " [1.4168295e-04 7.3178773e-05 1.1693500e-02 1.9808630e-02 9.6772248e-03 4.0111575e-02]]\n"
     ]
    },
    {
     "data": {
      "image/png": "[encoded data removed]",
      "text/plain": [
       "<Figure size 480x480 with 2 Axes>"
      ]
     },
     "metadata": {},
     "output_type": "display_data"
    }
   ],
   "source": [
    "variances=torch.var(torch.stack(outputs,dim=0),dim=0)[0].numpy()\n",
    "print(variances)\n",
    "plt.matshow(variances)\n",
    "plt.colorbar()\n",
    "plt.show()"
   ]
  },
  {
   "cell_type": "markdown",
   "metadata": {},
   "source": [
    "Using the previously computed theoretical transition rates we can look at the pointwise error:"
   ]
  },
  {
   "cell_type": "code",
   "execution_count": 27,
   "metadata": {},
   "outputs": [
    {
     "name": "stdout",
     "output_type": "stream",
     "text": [
      "[[ 0.04990856 -0.05539733 -0.00330978 -0.06654763  0.03710616  0.03824015]\n",
      " [-0.03157096 -0.02229328  0.00434769  0.06168525 -0.06953448  0.05736557]\n",
      " [-0.08148583 -0.10356467 -0.01990019  0.18048435  0.15411782 -0.12965202]\n",
      " [-0.1182422   0.05446659  0.0677565  -0.0251112   0.04775023 -0.02662009]\n",
      " [ 0.04827555 -0.0477764   0.06753144 -0.06930619 -0.02805901  0.0293349 ]\n",
      " [ 0.07460413  0.05660873 -0.00985044 -0.02373576 -0.04896581 -0.04866099]]\n"
     ]
    },
    {
     "data": {
      "image/png": "[encoded data removed]",
      "text/plain": [
       "<Figure size 480x480 with 2 Axes>"
      ]
     },
     "metadata": {},
     "output_type": "display_data"
    }
   ],
   "source": [
    "error=mean_rates-q_matrix\n",
    "print(error)\n",
    "plt.matshow(error)\n",
    "plt.colorbar()\n",
    "plt.show()"
   ]
  },
  {
   "cell_type": "markdown",
   "metadata": {},
   "source": [
    "## Inferring the parameters\n",
    "We will now use the transition rates to recover the parameters used to generate the dataset. Recall the formula we previously used to calculate the theoretical transition rates:\n",
    "```{math}\n",
    "    f_{ij}^{\\tiny{\\text{on}}} = \\exp \\left( -\\frac{V}{2}(j-i)\\right), \\, \\, \\, \\text{for} \\, \\, i, j \\in (0, 1, 2); \\quad f_{ij}^{\\tiny{\\text{ off}}} = b, \\, \\, \\, \\text{for} \\, \\, i, j \\in (3, 4, 5).\n",
    "```\n",
    "The $q$-matrix (transition rate matrix) is therefore given by \n",
    "```{math}\n",
    "q=\\begin{pmatrix}\n",
    "f_{ij}^{\\tiny{\\text{on}}} & r\\cdot I_3\\\\\n",
    "r\\cdot I_3 & f_{ij}^{\\tiny{\\text{ off}}}\n",
    "\\end{pmatrix}\n",
    "```\n",
    "since the transition rates between $(i,j,\\text{on})$ and $(i,j,\\text{off})$ (and vice versa) are given by the parameter $r$.\n",
    "\n",
    "This system is evidently overdetermined. For simplicity we assume normally distributed independent errors, which results in the following MLEs for each of the parameters:\n",
    "\n",
    "We can easily recover $b$ using the diagonal:\n",
    "```{math}\n",
    "    \\hat{b}=\\frac{1}{6}\\sum_{i=3}^5\\sum_{j=3}^51_{i\\neq j}f_{ij}^{\\tiny{\\text{off}}}\n",
    "```"
   ]
  },
  {
   "cell_type": "code",
   "execution_count": null,
   "metadata": {},
   "outputs": [
    {
     "data": {
      "text/plain": [
       "np.float32(0.9847429)"
      ]
     },
     "execution_count": 28,
     "metadata": {},
     "output_type": "execute_result"
    }
   ],
   "source": [
    "lower_matrix=mean_rates[3:,3:]\n",
    "np.fill_diagonal(lower_matrix, 0)\n",
    "\n",
    "B_hat=lower_matrix.sum()/6\n",
    "B_hat"
   ]
  },
  {
   "cell_type": "markdown",
   "metadata": {},
   "source": [
    "Similarly $r$ describes the transition rates from a state $(i,j,\\text{on})$ to $(i,j,\\text{off})$ and vice versa:\n",
    "```{math}\n",
    "    \\hat{r}=\\frac{1}{6}\\sum_{i=0}^2 q_{i,i+3}+q_{i+3,i}\n",
    "```"
   ]
  },
  {
   "cell_type": "code",
   "execution_count": 29,
   "metadata": {},
   "outputs": [
    {
     "data": {
      "text/plain": [
       "np.float32(0.92639947)"
      ]
     },
     "execution_count": 29,
     "metadata": {},
     "output_type": "execute_result"
    }
   ],
   "source": [
    "r_hat=sum([mean_rates[i,i+3]+mean_rates[i+3,i] for i in range(3)])/6\n",
    "r_hat"
   ]
  },
  {
   "cell_type": "markdown",
   "metadata": {},
   "source": [
    "And  $V$ can be recovered using $(q_{i,j})_{i,j=1}^3$:\n",
    "```{math}\n",
    "    \\hat{V}=\\frac{1}{6}\\left(-2\\cdot(\\ln q_{0,1}+\\ln q_{1,2})+2\\cdot(\\ln q_{1,0}+\\ln q_{2,1})- \\ln q_{0,2}+ \\ln q_{2,0}\\right)\n",
    "```"
   ]
  },
  {
   "cell_type": "code",
   "execution_count": 30,
   "metadata": {},
   "outputs": [
    {
     "data": {
      "text/plain": [
       "np.float32(0.99790925)"
      ]
     },
     "execution_count": 30,
     "metadata": {},
     "output_type": "execute_result"
    }
   ],
   "source": [
    "V_hat=(-2*(np.log(mean_rates[0,1])+np.log(mean_rates[1,2]))+2*(np.log(mean_rates[1,0])+np.log(mean_rates[2,1]))-np.log(mean_rates[0,2])+np.log(mean_rates[2,0]))/6\n",
    "V_hat"
   ]
  },
  {
   "cell_type": "markdown",
   "metadata": {},
   "source": [
    "Which results in the following inferred parameters:"
   ]
  },
  {
   "cell_type": "code",
   "execution_count": 31,
   "metadata": {},
   "outputs": [
    {
     "data": {
      "text/plain": [
       "(np.float32(0.99790925), np.float32(0.92639947), np.float32(0.9847429))"
      ]
     },
     "execution_count": 31,
     "metadata": {},
     "output_type": "execute_result"
    }
   ],
   "source": [
    "(V_hat,r_hat,B_hat)"
   ]
  },
  {
   "cell_type": "markdown",
   "metadata": {},
   "source": [
    "## Bibliography\n",
    "```{bibliography}\n",
    ":style: alpha\n",
    ":filter: docname in docnames\n",
    "```"
   ]
  }
 ],
 "metadata": {
  "kernelspec": {
   "display_name": "FIM",
   "language": "python",
   "name": "python3"
  },
  "language_info": {
   "codemirror_mode": {
    "name": "ipython",
    "version": 3
   },
   "file_extension": ".py",
   "mimetype": "text/x-python",
   "name": "python",
   "nbconvert_exporter": "python",
   "pygments_lexer": "ipython3",
   "version": "3.12.7"
  },
  "widgets": {
   "application/vnd.jupyter.widget-state+json": {
    "state": {},
    "version_major": 2,
    "version_minor": 0
   }
  }
 },
 "nbformat": 4,
 "nbformat_minor": 4
}
