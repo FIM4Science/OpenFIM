{
 "cells": [
  {
   "cell_type": "markdown",
   "metadata": {},
   "source": [
    "### This notebook tries to fit tick's EM model to the real world datasets to get a feeling what their kernels look like. Because the EM algorithm takes a single (long) path, we concatenate the paths of the real world datasets."
   ]
  },
  {
   "cell_type": "code",
   "execution_count": 1,
   "metadata": {},
   "outputs": [],
   "source": [
    "import pickle\n",
    "import numpy as np\n",
    "import matplotlib.pyplot as plt\n",
    "\n",
    "from tick.plot import plot_basis_kernels, plot_hawkes_kernels\n",
    "from tick.hawkes import SimuHawkes, HawkesKernelTimeFunc, HawkesBasisKernels, HawkesEM"
   ]
  },
  {
   "cell_type": "code",
   "execution_count": 2,
   "metadata": {},
   "outputs": [],
   "source": [
    "with open(\"../../data/evaluation/hawkes/mimic_II.pkl\", \"rb\") as f:\n",
    "    mimic = pickle.load(f)\n",
    "    \n",
    "with open(\"../../data/evaluation/hawkes/mooc.pkl\", \"rb\") as f:\n",
    "    mooc = pickle.load(f)\n",
    "    \n",
    "with open(\"../../data/evaluation/hawkes/stackOverflow.pkl\", \"rb\") as f:\n",
    "    stack = pickle.load(f)\n",
    "    \n",
    "with open(\"../../data/evaluation/hawkes/retweet.pkl\", \"rb\") as f:\n",
    "    retweet = pickle.load(f)"
   ]
  },
  {
   "cell_type": "code",
   "execution_count": 3,
   "metadata": {},
   "outputs": [],
   "source": [
    "def get_number_of_marks(types_data):\n",
    "    return np.unique(np.concatenate(types_data)).max() + 1\n",
    "\n",
    "def merge_to_single_path(dataset):\n",
    "    \"\"\"\n",
    "    Merge all paths to a single path.\n",
    "    We return the timestamps for every mark separately.\n",
    "    \"\"\"\n",
    "    num_marks = get_number_of_marks(dataset['types'])\n",
    "    res = [[] for _ in range(num_marks)]\n",
    "    for path_idx in range(len(dataset['types'])):\n",
    "        marks = np.unique(dataset['types'][path_idx])\n",
    "        for mark in marks:\n",
    "            prev_time = 0\n",
    "            if len(res[mark]) > 0 and res[mark][-1] != 0:\n",
    "                prev_time = res[mark][-1]\n",
    "            time_stamps = dataset['timestamps'][path_idx][dataset['types'][path_idx] == mark]\n",
    "            # Add the previous time to the timestamps\n",
    "            time_stamps = [time + prev_time for time in time_stamps]\n",
    "            res[mark] += time_stamps\n",
    "            \n",
    "    for i in range(len(res)):\n",
    "        res[i] = np.array(res[i])\n",
    "    return res"
   ]
  },
  {
   "cell_type": "code",
   "execution_count": 4,
   "metadata": {},
   "outputs": [],
   "source": [
    "em = HawkesEM(1, kernel_size=100, n_threads=8, verbose=False, tol=1e-3)\n",
    "timestamps = merge_to_single_path(mimic)\n",
    "\n",
    "num_marks_to_consider = 6\n",
    "em.fit(timestamps[:num_marks_to_consider])\n",
    "\n",
    "fig = plot_hawkes_kernels(em, show=True)\n",
    "fig.set_size_inches(15, 10)  # Adjust the size as needed\n",
    "plt.tight_layout()  # Adjust the layout to prevent overlap\n",
    "\n",
    "plt.show()\n",
    "plt.savefig(\"mimic.png\")"
   ]
  },
  {
   "cell_type": "code",
   "execution_count": 5,
   "metadata": {},
   "outputs": [],
   "source": [
    "em = HawkesEM(0.04, kernel_size=100, n_threads=8, verbose=False, tol=1e-3)\n",
    "timestamps = merge_to_single_path(mooc)\n",
    "\n",
    "num_marks_to_consider = 6\n",
    "em.fit(timestamps[:num_marks_to_consider])\n",
    "\n",
    "fig = plot_hawkes_kernels(em, show=True)\n",
    "fig.set_size_inches(15, 10)  # Adjust the size as needed\n",
    "plt.tight_layout()  # Adjust the layout to prevent overlap\n",
    "\n",
    "plt.show()\n",
    "plt.savefig(\"mooc.png\")"
   ]
  },
  {
   "cell_type": "code",
   "execution_count": 6,
   "metadata": {},
   "outputs": [],
   "source": [
    "em = HawkesEM(30, kernel_size=100, n_threads=8, verbose=False, tol=1e-3)\n",
    "timestamps = merge_to_single_path(stack)\n",
    "\n",
    "num_marks_to_consider = 6\n",
    "em.fit(timestamps[:num_marks_to_consider])\n",
    "\n",
    "fig = plot_hawkes_kernels(em, show=True)\n",
    "fig.set_size_inches(15, 10)  # Adjust the size as needed\n",
    "plt.tight_layout()  # Adjust the layout to prevent overlap\n",
    "\n",
    "plt.show()\n",
    "plt.savefig(\"stack.png\")"
   ]
  },
  {
   "cell_type": "code",
   "execution_count": 7,
   "metadata": {},
   "outputs": [],
   "source": [
    "em = HawkesEM(150, kernel_size=100, n_threads=8, verbose=False, tol=1e-3)\n",
    "timestamps = merge_to_single_path(retweet)\n",
    "\n",
    "num_marks_to_consider = 3\n",
    "em.fit(timestamps[:num_marks_to_consider])\n",
    "\n",
    "fig = plot_hawkes_kernels(em, show=True)\n",
    "fig.set_size_inches(15, 10)  # Adjust the size as needed\n",
    "plt.tight_layout()  # Adjust the layout to prevent overlap\n",
    "\n",
    "plt.show()\n",
    "plt.savefig(\"retweet.png\")"
   ]
  },
  {
   "cell_type": "code",
   "execution_count": null,
   "metadata": {},
   "outputs": [],
   "source": []
  }
 ],
 "metadata": {
  "kernelspec": {
   "display_name": "py36tick",
   "language": "python",
   "name": "python3"
  },
  "language_info": {
   "codemirror_mode": {
    "name": "ipython",
    "version": 3
   },
   "file_extension": ".py",
   "mimetype": "text/x-python",
   "name": "python",
   "nbconvert_exporter": "python",
   "pygments_lexer": "ipython3",
   "version": "3.6.13"
  }
 },
 "nbformat": 4,
 "nbformat_minor": 2
}
