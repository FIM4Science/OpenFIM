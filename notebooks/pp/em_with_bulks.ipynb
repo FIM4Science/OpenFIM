{
 "cells": [
  {
   "cell_type": "markdown",
   "metadata": {},
   "source": [
    "### This notebook first synthesizes synthetic data for a process with multiple marks. Afterwards it uses the expectation maximization algorithm of tick to approximate the kernel functions using the \"bulk strategy\""
   ]
  },
  {
   "cell_type": "code",
   "execution_count": 1,
   "metadata": {},
   "outputs": [],
   "source": [
    "%matplotlib inline"
   ]
  },
  {
   "cell_type": "code",
   "execution_count": 2,
   "metadata": {},
   "outputs": [],
   "source": [
    "import copy\n",
    "import itertools\n",
    "import numpy as np\n",
    "import matplotlib.pyplot as plt\n",
    "\n",
    "from tick.plot import plot_basis_kernels, plot_hawkes_kernels\n",
    "from tick.hawkes import SimuHawkes, HawkesKernelTimeFunc, HawkesBasisKernels, HawkesEM"
   ]
  },
  {
   "cell_type": "code",
   "execution_count": 3,
   "metadata": {},
   "outputs": [],
   "source": [
    "num_marks = 3\n",
    "end_time = 5e4\n",
    "C = 1e-3\n",
    "kernel_size = 100\n",
    "max_iter = 100\n",
    "\n",
    "mus = [1, 0.2, 0.5, 0.8]\n",
    "\n",
    "# def g1(t):\n",
    "#     alpha = 0.8\n",
    "#     beta = 1.0\n",
    "#     return alpha * beta * np.exp(-beta * t)\n",
    "\n",
    "# def g2(t):\n",
    "#     alpha_1 = 0.4\n",
    "#     beta_1 = 1.0\n",
    "#     alpha_2 = 0.4\n",
    "#     beta_2 = 20\n",
    "#     return alpha_1 * beta_1 * np.exp(-beta_1 * t) + alpha_2 * beta_2 * np.exp(-beta_2 * t)\n",
    "\n",
    "# def g3(t):\n",
    "#     alpha = 0.8\n",
    "#     beta = 1.0\n",
    "#     return alpha * beta * np.exp(-beta * t**2)\n",
    "\n",
    "# def g4(t):\n",
    "#     alpha = 0.4\n",
    "#     beta = 5.0\n",
    "#     return alpha * beta * np.exp(-beta * t**2)\n",
    "\n",
    "def g1(t):\n",
    "    alpha = 0.1\n",
    "    beta = 0.5\n",
    "    return np.maximum(0, alpha * beta * np.sin(beta * t))\n",
    "\n",
    "def g2(t):\n",
    "    alpha_1 = 0.02\n",
    "    beta_1 = 0.5\n",
    "    alpha_2 = 0.03\n",
    "    beta_2 = 1.0\n",
    "    return np.maximum(0, alpha_1 * beta_1 * np.exp(-beta_1 * t) + alpha_2 * beta_2 * np.exp(-beta_2 * t))\n",
    "\n",
    "def g3(t):\n",
    "    alpha = 0.1\n",
    "    beta = 0.1\n",
    "    return np.maximum(0, alpha * beta * np.exp(-beta * t))\n",
    "\n",
    "def g4(t):\n",
    "    alpha = 0.01\n",
    "    beta = 1.0\n",
    "    return np.maximum(0, alpha * beta * (1 - np.exp(-beta * t)))\n",
    "\n",
    "t_values = np.linspace(0, 20, 1000)"
   ]
  },
  {
   "cell_type": "code",
   "execution_count": 4,
   "metadata": {},
   "outputs": [],
   "source": [
    "function_values = [g1(t_values), g2(t_values), g3(t_values), g4(t_values)]"
   ]
  },
  {
   "cell_type": "code",
   "execution_count": 5,
   "metadata": {},
   "outputs": [],
   "source": [
    "hawkes = SimuHawkes(baseline=mus, seed=1093, verbose=False)\n",
    "for i in range(len(mus)):\n",
    "    kernel = HawkesKernelTimeFunc(t_values=t_values, y_values=function_values[i])\n",
    "    hawkes.set_kernel(i, i, kernel)\n",
    "\n",
    "hawkes.end_time = end_time\n",
    "hawkes.simulate()\n",
    "ticks = hawkes.timestamps"
   ]
  },
  {
   "cell_type": "code",
   "execution_count": 6,
   "metadata": {},
   "outputs": [
    {
     "name": "stdout",
     "output_type": "stream",
     "text": [
      "Number of events for mark 0: 83015\n",
      "Number of events for mark 1: 10562\n",
      "Number of events for mark 2: 27407\n",
      "Number of events for mark 3: 49331\n"
     ]
    }
   ],
   "source": [
    "for i in range(len(ticks)):\n",
    "    print(f\"Number of events for mark {i}: {len(ticks[i])}\")"
   ]
  },
  {
   "cell_type": "code",
   "execution_count": 7,
   "metadata": {},
   "outputs": [],
   "source": [
    "def get_bulked_ticks(ticks, selected_event_type):\n",
    "    \"\"\"\n",
    "    Return ticks for the selected event type and the bulked ticks.\n",
    "    \"\"\"\n",
    "    # Merge all event types except the selected one into the bulk\n",
    "    bulked_ticks = np.concatenate([ticks[i] for i in range(len(ticks)) if i != selected_event_type])\n",
    "    # Sort the bulked ticks\n",
    "    bulked_ticks = np.sort(bulked_ticks)\n",
    "    return [ticks[selected_event_type], bulked_ticks]"
   ]
  },
  {
   "cell_type": "markdown",
   "metadata": {},
   "source": [
    "Plot the kernel with the bulking approach"
   ]
  },
  {
   "cell_type": "code",
   "execution_count": 8,
   "metadata": {},
   "outputs": [],
   "source": [
    "mark = 0\n",
    "\n",
    "bulked_ticks = get_bulked_ticks(ticks, mark)\n",
    "\n",
    "def selected_kernel(t):\n",
    "    return g1(t)\n",
    "\n",
    "def bulk(t):\n",
    "    return g2(t) + g3(t) + g4(t)\n",
    "\n",
    "bulked_mus = [mus[mark], mus[1] + mus[2] + mus[3]]\n",
    "\n",
    "bulked_hawkes = SimuHawkes(baseline=bulked_mus, seed=1093, verbose=False)\n",
    "bulked_hawkes.set_kernel(0, 0, HawkesKernelTimeFunc(t_values=t_values, y_values=selected_kernel(t_values)))\n",
    "bulked_hawkes.set_kernel(1, 1, HawkesKernelTimeFunc(t_values=t_values, y_values=bulk(t_values)))\n",
    "\n",
    "bulked_hawkes.set_timestamps(bulked_ticks)\n",
    "\n",
    "# And then perform estimation using expectation maximization with two basis kernels\n",
    "# kernel_support = 20\n",
    "# n_basis = 10\n",
    "\n",
    "# em = HawkesBasisKernels(kernel_support, n_basis=n_basis,\n",
    "#                         kernel_size=kernel_size, C=C, n_threads=12,\n",
    "#                         max_iter=max_iter, verbose=False, ode_tol=1e-5)\n",
    "em = HawkesEM(40, kernel_size=100, n_threads=8, verbose=False, tol=1e-3)\n",
    "em.fit(bulked_hawkes.timestamps)\n",
    "\n",
    "fig = plot_hawkes_kernels(em, hawkes=bulked_hawkes, show=False)\n",
    "fig.set_size_inches(15, 10)  # Adjust the size as needed\n",
    "plt.tight_layout()  # Adjust the layout to prevent overlap\n",
    "for ax in fig.axes:\n",
    "    ax.set_ylim([0, 0.1])\n",
    "\n",
    "plt.show()\n",
    "plt.savefig(\"bulk1.png\")"
   ]
  },
  {
   "cell_type": "code",
   "execution_count": 9,
   "metadata": {},
   "outputs": [],
   "source": [
    "mark = 1\n",
    "\n",
    "bulked_ticks = get_bulked_ticks(ticks, mark)\n",
    "\n",
    "def selected_kernel(t):\n",
    "    return g2(t)\n",
    "\n",
    "def bulk(t):\n",
    "    return g1(t) + g3(t) + g4(t)\n",
    "\n",
    "bulked_mus = [mus[mark], mus[0] + mus[2] + mus[3]]\n",
    "\n",
    "bulked_hawkes = SimuHawkes(baseline=bulked_mus, seed=1093, verbose=False)\n",
    "bulked_hawkes.set_kernel(0, 0, HawkesKernelTimeFunc(t_values=t_values, y_values=selected_kernel(t_values)))\n",
    "bulked_hawkes.set_kernel(1, 1, HawkesKernelTimeFunc(t_values=t_values, y_values=bulk(t_values)))\n",
    "\n",
    "bulked_hawkes.set_timestamps(bulked_ticks)\n",
    "\n",
    "# And then perform estimation using expectation maximization with two basis kernels\n",
    "em = HawkesEM(40, kernel_size=100, n_threads=8, verbose=False, tol=1e-3)\n",
    "em.fit(bulked_hawkes.timestamps)\n",
    "\n",
    "fig = plot_hawkes_kernels(em, hawkes=bulked_hawkes, show=False)\n",
    "fig.set_size_inches(15, 10)  # Adjust the size as needed\n",
    "plt.tight_layout()  # Adjust the layout to prevent overlap\n",
    "for ax in fig.axes:\n",
    "    ax.set_ylim([0, 0.1])\n",
    "\n",
    "plt.show()\n",
    "plt.savefig(\"bulk2.png\")\n"
   ]
  },
  {
   "cell_type": "code",
   "execution_count": 10,
   "metadata": {},
   "outputs": [],
   "source": [
    "# mark = 1\n",
    "\n",
    "# bulked_ticks = get_bulked_ticks(ticks, mark)\n",
    "# # And then perform estimation using expectation maximization with two basis kernels\n",
    "# kernel_support = 20\n",
    "\n",
    "# em = HawkesBasisKernels(kernel_support, n_basis=2,\n",
    "#                         kernel_size=kernel_size, C=C, n_threads=12,\n",
    "#                         max_iter=max_iter, verbose=False, ode_tol=1e-5)\n",
    "# em.fit(bulked_ticks)\n",
    "\n",
    "# def selected_kernel(t):\n",
    "#     return g2(t)\n",
    "\n",
    "# def bulk(t):\n",
    "#     return g1(t) + g3(t) + g4(t)\n",
    "\n",
    "# fig = plot_hawkes_kernels(em, show=False)\n",
    "# for ax in fig.axes:\n",
    "#     ax.set_ylim([0.0, 1])\n",
    "    \n",
    "# fig = plot_basis_kernels(em, basis_kernels=[g2, g1], show=False)\n",
    "# for ax in fig.axes:\n",
    "#     ax.set_ylim([0.0, 1])\n",
    "\n",
    "# plt.show()\n",
    "# plt.savefig(\"bulk2.png\")"
   ]
  },
  {
   "cell_type": "markdown",
   "metadata": {},
   "source": [
    "Fit each dimension separately"
   ]
  },
  {
   "cell_type": "code",
   "execution_count": 11,
   "metadata": {},
   "outputs": [],
   "source": [
    "plt.cla()\n",
    "\n",
    "# And then perform estimation using expectation maximization with two basis kernels\n",
    "em = HawkesEM(40, kernel_size=100, n_threads=8, verbose=False, tol=1e-3)\n",
    "em.fit(hawkes.timestamps)\n",
    "\n",
    "\n",
    "fig = plot_hawkes_kernels(em, hawkes=hawkes, show=False)\n",
    "fig.set_size_inches(15, 10)  # Adjust the size as needed\n",
    "plt.tight_layout()  # Adjust the layout to prevent overlap\n",
    "for ax in fig.axes:\n",
    "    ax.set_ylim([0.0, 0.05])\n",
    "\n",
    "plt.show()\n",
    "plt.savefig(\"separate.png\")"
   ]
  },
  {
   "cell_type": "code",
   "execution_count": null,
   "metadata": {},
   "outputs": [],
   "source": []
  }
 ],
 "metadata": {
  "kernelspec": {
   "display_name": "py36tick",
   "language": "python",
   "name": "python3"
  },
  "language_info": {
   "codemirror_mode": {
    "name": "ipython",
    "version": 3
   },
   "file_extension": ".py",
   "mimetype": "text/x-python",
   "name": "python",
   "nbconvert_exporter": "python",
   "pygments_lexer": "ipython3",
   "version": "3.6.13"
  }
 },
 "nbformat": 4,
 "nbformat_minor": 2
}
