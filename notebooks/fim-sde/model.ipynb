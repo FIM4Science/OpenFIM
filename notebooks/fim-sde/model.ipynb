{
 "cells": [
  {
   "cell_type": "code",
   "execution_count": null,
   "metadata": {},
   "outputs": [],
   "source": [
    "import os\n",
    "import fim\n",
    "import torch\n",
    "import numpy as np\n",
    "\n",
    "from torch import nn\n",
    "from torch.utils.data import DataLoader\n",
    "from fim.data.dataloaders import (\n",
    "    DataLoaderFactory\n",
    ")\n",
    "from fim.utils.helper import (\n",
    "    GenericConfig, \n",
    "    expand_params, \n",
    "    load_yaml\n",
    ")\n",
    "\n",
    "from fim.data.datasets import FIMSDEDataset,FIMSDEDatabatchTuple\n",
    "from fim.data.config_dataclasses import FIMDatasetConfig\n",
    "from fim.models.blocks import ModelFactory\n",
    "from fim.models.config_dataclasses import FIMSDEConfig\n",
    "from fim.data.config_dataclasses import FIMDatasetConfig\n",
    "from fim.models.sde import FIMSDE\n",
    "from fim.utils.experiment_files import ExperimentsFiles\n"
   ]
  },
  {
   "cell_type": "code",
   "execution_count": 1,
   "metadata": {},
   "outputs": [
    {
     "ename": "NameError",
     "evalue": "name 'ExperimentsFiles' is not defined",
     "output_type": "error",
     "traceback": [
      "\u001b[1;31m---------------------------------------------------------------------------\u001b[0m",
      "\u001b[1;31mNameError\u001b[0m                                 Traceback (most recent call last)",
      "Cell \u001b[1;32mIn[1], line 2\u001b[0m\n\u001b[0;32m      1\u001b[0m experiment_dir \u001b[38;5;241m=\u001b[39m \u001b[38;5;124mr\u001b[39m\u001b[38;5;124m\"\u001b[39m\u001b[38;5;124mC:\u001b[39m\u001b[38;5;124m\\\u001b[39m\u001b[38;5;124mUsers\u001b[39m\u001b[38;5;124m\\\u001b[39m\u001b[38;5;124mcesar\u001b[39m\u001b[38;5;124m\\\u001b[39m\u001b[38;5;124mDesktop\u001b[39m\u001b[38;5;124m\\\u001b[39m\u001b[38;5;124mProjects\u001b[39m\u001b[38;5;124m\\\u001b[39m\u001b[38;5;124mFoundationModels\u001b[39m\u001b[38;5;124m\\\u001b[39m\u001b[38;5;124mFIM\u001b[39m\u001b[38;5;124m\\\u001b[39m\u001b[38;5;124mresults\u001b[39m\u001b[38;5;124m\\\u001b[39m\u001b[38;5;124m1732042941\u001b[39m\u001b[38;5;124m\"\u001b[39m\n\u001b[1;32m----> 2\u001b[0m experiments_files \u001b[38;5;241m=\u001b[39m \u001b[43mExperimentsFiles\u001b[49m(experiment_dir\u001b[38;5;241m=\u001b[39mexperiment_dir)\n",
      "\u001b[1;31mNameError\u001b[0m: name 'ExperimentsFiles' is not defined"
     ]
    }
   ],
   "source": [
    "experiment_dir = r\"C:\\Users\\cesar\\Desktop\\Projects\\FoundationModels\\FIM\\results\\1732042941\"\n",
    "experiments_files = ExperimentsFiles(experiment_dir=experiment_dir)"
   ]
  },
  {
   "cell_type": "code",
   "execution_count": null,
   "metadata": {},
   "outputs": [],
   "source": []
  },
  {
   "cell_type": "code",
   "execution_count": null,
   "metadata": {},
   "outputs": [],
   "source": []
  },
  {
   "cell_type": "code",
   "execution_count": null,
   "metadata": {},
   "outputs": [],
   "source": []
  },
  {
   "cell_type": "code",
   "execution_count": null,
   "metadata": {},
   "outputs": [],
   "source": []
  },
  {
   "cell_type": "code",
   "execution_count": null,
   "metadata": {},
   "outputs": [],
   "source": []
  }
 ],
 "metadata": {
  "kernelspec": {
   "display_name": "fim",
   "language": "python",
   "name": "python3"
  },
  "language_info": {
   "codemirror_mode": {
    "name": "ipython",
    "version": 3
   },
   "file_extension": ".py",
   "mimetype": "text/x-python",
   "name": "python",
   "nbconvert_exporter": "python",
   "pygments_lexer": "ipython3",
   "version": "3.10.15"
  }
 },
 "nbformat": 4,
 "nbformat_minor": 2
}
