{
 "cells": [
  {
   "cell_type": "code",
   "execution_count": 2,
   "metadata": {},
   "outputs": [],
   "source": [
    "import torch\n",
    "\n",
    "class MultivariateHawkesProcess:\n",
    "    def __init__(self, mu, alpha, beta, dt_max=0.1, max_time=10.0):\n",
    "        \"\"\"\n",
    "        Initializes the multivariate Hawkes process.\n",
    "\n",
    "        Parameters:\n",
    "        - mu: Base intensities (vector of shape [num_dimensions])\n",
    "        - alpha: Influence matrix (matrix of shape [num_dimensions, num_dimensions])\n",
    "        - beta: Decay rates (vector of shape [num_dimensions])\n",
    "        - dt_max: Maximum time step to simulate between events\n",
    "        - max_time: Time horizon for the simulation\n",
    "        \"\"\"\n",
    "        self.mu = mu  # base intensity, shape [num_dimensions]\n",
    "        self.alpha = alpha  # influence matrix, shape [num_dimensions, num_dimensions]\n",
    "        self.beta = beta  # decay rates, shape [num_dimensions]\n",
    "        self.dt_max = dt_max  # maximum time step\n",
    "        self.max_time = max_time  # time horizon\n",
    "\n",
    "        self.num_dimensions = mu.shape[0]\n",
    "        self.events = [[] for _ in range(self.num_dimensions)]  # List of event times for each dimension\n",
    "\n",
    "    def simulate(self):\n",
    "        current_time = 0.0\n",
    "        intensities = self.mu.clone()  # initialize with base intensities\n",
    "\n",
    "        while current_time < self.max_time:\n",
    "            # Calculate total intensity for the next event\n",
    "            total_intensity = intensities.sum()\n",
    "\n",
    "            # Time to next event\n",
    "            dt = torch.distributions.Exponential(total_intensity).sample().item()\n",
    "            if current_time + dt > self.max_time:\n",
    "                break\n",
    "            current_time += dt\n",
    "\n",
    "            # Choose which dimension the event happens in\n",
    "            probs = intensities / total_intensity\n",
    "            event_dimension = torch.multinomial(probs, 1).item()\n",
    "\n",
    "            # Record the event\n",
    "            self.events[event_dimension].append(current_time)\n",
    "\n",
    "            # Update intensities based on the new event\n",
    "            for i in range(self.num_dimensions):\n",
    "                intensities[i] = self.mu[i] + torch.sum(\n",
    "                    self.alpha[i, event_dimension] * torch.exp(-self.beta[i] * (current_time - torch.tensor(self.events[event_dimension])))\n",
    "                )\n",
    "\n",
    "        return self.events\n",
    "\n"
   ]
  },
  {
   "cell_type": "code",
   "execution_count": 3,
   "metadata": {},
   "outputs": [
    {
     "name": "stdout",
     "output_type": "stream",
     "text": [
      "Dimension 1: [0.7813360095024109, 2.3544456362724304, 5.6284236535429955, 6.894859157502651, 9.412772871553898, 10.238099433481693, 10.962426699697971, 11.40073136240244, 11.660657294094563, 12.615419931709766, 12.672868099063635, 13.93748315796256, 14.035546038299799, 15.539317939430475, 15.955983493477106, 16.775773379951715, 16.901649449020624, 17.16190940514207, 17.64105201140046, 18.36843717470765, 18.369470797711983]\n",
      "Dimension 2: [0.09641486406326294, 3.6133491471409798, 7.26455333083868, 18.718938045436516, 19.83251779549755, 19.95415820949711]\n",
      "Dimension 3: [3.5011715292930603, 4.71411819010973, 4.960074864327908, 8.249268256127834, 8.396996088325977, 8.854772008955479]\n"
     ]
    }
   ],
   "source": [
    "# Example Usage\n",
    "\n",
    "# Define parameters for a 3-dimensional Hawkes process\n",
    "mu = torch.tensor([0.2, 0.15, 0.1])  # base intensities\n",
    "alpha = torch.tensor([[0.5, 0.3, 0.1],\n",
    "                      [0.2, 0.4, 0.3],\n",
    "                      [0.1, 0.2, 0.5]])  # influence matrix\n",
    "beta = torch.tensor([1.0, 1.5, 1.2])  # decay rates\n",
    "\n",
    "# Instantiate the process\n",
    "hawkes_process = MultivariateHawkesProcess(mu, alpha, beta, max_time=20.0)\n",
    "\n",
    "# Simulate events\n",
    "events = hawkes_process.simulate()\n",
    "\n",
    "# Print results\n",
    "for i, event_times in enumerate(events):\n",
    "    print(f\"Dimension {i+1}: {event_times}\")\n"
   ]
  },
  {
   "cell_type": "code",
   "execution_count": null,
   "metadata": {},
   "outputs": [],
   "source": []
  },
  {
   "cell_type": "code",
   "execution_count": null,
   "metadata": {},
   "outputs": [],
   "source": []
  }
 ],
 "metadata": {
  "kernelspec": {
   "display_name": "fim",
   "language": "python",
   "name": "python3"
  },
  "language_info": {
   "codemirror_mode": {
    "name": "ipython",
    "version": 3
   },
   "file_extension": ".py",
   "mimetype": "text/x-python",
   "name": "python",
   "nbconvert_exporter": "python",
   "pygments_lexer": "ipython3",
   "version": "3.10.15"
  }
 },
 "nbformat": 4,
 "nbformat_minor": 2
}
