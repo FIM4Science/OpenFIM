{
 "cells": [
  {
   "cell_type": "code",
   "execution_count": null,
   "id": "c61eef07-1632-4e37-95ae-d3f8d9aa2b8b",
   "metadata": {},
   "outputs": [],
   "source": [
    "import numpy as np\n",
    "from wienerfm.tools.data_helpers import load_data\n",
    "import jax\n",
    "import matplotlib.pyplot as plt\n",
    "from functools import partial"
   ]
  },
  {
   "cell_type": "code",
   "execution_count": null,
   "id": "fb32ddf5-79af-4996-9879-75fc63f00f24",
   "metadata": {},
   "outputs": [],
   "source": [
    "def subsample_to_length(arr, target_size, axis=-2):\n",
    "    \"Regularly subsamples array to target length in axis.\"\n",
    "    current_size = arr.shape[axis]\n",
    "    stride_length = int(current_size / target_size)\n",
    "\n",
    "    arr = jax.lax.slice_in_dim(arr, start_index=0, limit_index=stride_length * target_size, stride=1, axis=axis)\n",
    "    arr = jax.lax.slice_in_dim(arr, start_index=0, limit_index=-1, stride=stride_length, axis=axis)\n",
    "\n",
    "    assert arr.shape[axis] == target_size\n",
    "\n",
    "    return arr\n"
   ]
  },
  {
   "cell_type": "markdown",
   "id": "545e4839-94ca-41fa-a5c2-afa7307be70c",
   "metadata": {},
   "source": [
    "## Course 2023: synthetic datasets from Example 1"
   ]
  },
  {
   "cell_type": "code",
   "execution_count": null,
   "id": "31fce600-d4bf-4a3e-a13e-95b05cb86230",
   "metadata": {},
   "outputs": [],
   "source": [
    "course_data_path = \"/cephfs_projects/foundation_models/data/SDE_synthetic_test_sets\"\n",
    "\n",
    "def plot_course_synthetic_dataset(course_data_path, equation_name):\n",
    "    obs_times = load_data(course_data_path + \"/\" + equation_name + \"_grid.pickle\")\n",
    "    clean_obs_values = load_data(course_data_path + \"/\" + equation_name + \"_values.pickle\")\n",
    "    noisy_obs_values = load_data(course_data_path + \"/\" + equation_name + \"_gaussian_noise_values.pickle\")\n",
    "\n",
    "    print(\"Original shapes: obs_times \", obs_times.shape, \" obs_values \", clean_obs_values.shape)\n",
    "\n",
    "    target_length = 128\n",
    "    obs_times, clean_obs_values, noisy_obs_values = tuple(map(partial(subsample_to_length, target_size=target_length), \n",
    "                                                             (obs_times, clean_obs_values, noisy_obs_values)))\n",
    "\n",
    "    print(\"Shapes after regular subsampling : obs_times \", obs_times.shape, \" obs_values \", clean_obs_values.shape)\n",
    "\n",
    "    if clean_obs_values.shape[-1] == 2:\n",
    "        fig = plt.Figure()\n",
    "        ax = fig.add_axes(111)\n",
    "\n",
    "        for i in range(noisy_obs_values.shape[0]):\n",
    "            ax.plot(noisy_obs_values[i,:,0], noisy_obs_values[i,:,1], label=\"Noisy Observations\" if i == 0 else None, color = \"black\", linewidth=0.5)\n",
    "            ax.plot(clean_obs_values[i,:,0], clean_obs_values[i,:,1], label=\"Clean Observations\" if i == 0 else None, color = \"blue\", linewidth=0.5)\n",
    "\n",
    "    elif clean_obs_values.shape[-1] == 3:\n",
    "        fig = plt.Figure()\n",
    "        ax = fig.add_axes(111, projection=\"3d\")\n",
    "\n",
    "        for i in range(noisy_obs_values.shape[0]):\n",
    "            ax.plot(noisy_obs_values[i,:,0], noisy_obs_values[i,:,1], noisy_obs_values[i,:,2], label=\"Noisy Observations\" if i == 0 else None, color = \"black\", linewidth=0.5)\n",
    "            ax.plot(clean_obs_values[i,:,0], clean_obs_values[i,:,1], clean_obs_values[i,:,3], label=\"Clean Observations\" if i == 0 else None, color = \"blue\", linewidth=0.5)\n",
    "\n",
    "    fig.legend()\n",
    "    return fig"
   ]
  },
  {
   "cell_type": "code",
   "execution_count": null,
   "id": "cf3687a7-101f-4e3b-a1c9-b378c4e3e68c",
   "metadata": {},
   "outputs": [],
   "source": [
    "equation_name = \"damped_linear_oscillator\"\n",
    "fig = plot_course_synthetic_dataset(course_data_path, equation_name)\n",
    "fig"
   ]
  },
  {
   "cell_type": "code",
   "execution_count": null,
   "id": "fcda32d6-b556-4cbd-b741-531d072a2e62",
   "metadata": {},
   "outputs": [],
   "source": [
    "equation_name = \"damped_cubic_oscillator\"\n",
    "fig = plot_course_synthetic_dataset(course_data_path, equation_name)\n",
    "fig"
   ]
  },
  {
   "cell_type": "code",
   "execution_count": null,
   "id": "e71c518c-3b99-4198-b99b-9e1a7c69a6bb",
   "metadata": {},
   "outputs": [],
   "source": [
    "equation_name = \"duffing_oscillator\"\n",
    "fig = plot_course_synthetic_dataset(course_data_path, equation_name)\n",
    "fig"
   ]
  },
  {
   "cell_type": "code",
   "execution_count": null,
   "id": "5b0db121-dc09-4046-a974-9a36f6f04f86",
   "metadata": {},
   "outputs": [],
   "source": [
    "equation_name = \"selkov_glycolysis\"\n",
    "fig = plot_course_synthetic_dataset(course_data_path, equation_name)\n",
    "fig"
   ]
  },
  {
   "cell_type": "code",
   "execution_count": null,
   "id": "2cac3159-48dd-40a7-bac3-1fe4775dcabe",
   "metadata": {},
   "outputs": [],
   "source": [
    "equation_name = \"hopf_bifurcation\"\n",
    "fig = plot_course_synthetic_dataset(course_data_path, equation_name)\n",
    "fig"
   ]
  },
  {
   "cell_type": "code",
   "execution_count": null,
   "id": "9749f458-c01f-4fd0-9545-63e07e1efb1b",
   "metadata": {},
   "outputs": [],
   "source": [
    "equation_name = \"lorentz_63\"\n",
    "fig = plot_course_synthetic_dataset(course_data_path, equation_name)\n",
    "fig"
   ]
  },
  {
   "cell_type": "code",
   "execution_count": null,
   "id": "f34b426d-d2d7-4195-904a-5bc9b51d2801",
   "metadata": {},
   "outputs": [],
   "source": []
  },
  {
   "cell_type": "markdown",
   "id": "74e36d9e-b60b-4d6c-aac6-6e630adcf8c0",
   "metadata": {},
   "source": [
    "## Batz 2018 - Double-well diffusion model with state-dependent diffusion (eq. 29 in Batz 2018)"
   ]
  },
  {
   "cell_type": "code",
   "execution_count": null,
   "id": "6939c582-f18b-4959-81f9-f34f6bb25203",
   "metadata": {},
   "outputs": [],
   "source": [
    "batz_data_dir = \"/cephfs_projects/foundation_models/data/SDE_synthetic_test_sets/\"\n",
    "obs_times_file = \"double_well_grid.pickle\"\n",
    "obs_values_file = \"double_well_values.pickle\"\n",
    "\n",
    "obs_times = load_data(batz_data_dir + \"/\" + obs_times_file)\n",
    "obs_values = load_data(batz_data_dir + \"/\" + obs_values_file)\n",
    "\n",
    "print(\"Observation times shape: \", obs_times.shape)\n",
    "print(\"Observation values shape: \", obs_values.shape)"
   ]
  },
  {
   "cell_type": "code",
   "execution_count": null,
   "id": "dc3b8e06-8529-4b49-8b94-e29ba5708324",
   "metadata": {},
   "outputs": [],
   "source": [
    "chunk_length = 128\n",
    "\n",
    "chunk_count = int(obs_times.shape[1] / chunk_length)\n",
    "print(f\"Chunked into chunks of length {chunk_length}, a single long trajectory yields {chunk_count} trajectories.\")"
   ]
  },
  {
   "cell_type": "code",
   "execution_count": null,
   "id": "9b92df5e-917a-428e-ad3f-9352d314b957",
   "metadata": {},
   "outputs": [],
   "source": [
    "# plot one complete trajectory\n",
    "plt.plot(obs_times[0].squeeze(), obs_values[0].squeeze(), linewidth=0.5, color=\"black\")"
   ]
  },
  {
   "cell_type": "code",
   "execution_count": null,
   "id": "c3dc730e-bf15-4f03-a6f8-8a73d03b08fd",
   "metadata": {},
   "outputs": [],
   "source": [
    "# plot multiple trajectories\n",
    "trajectory_count = 3\n",
    "for traj in range(trajectory_count):\n",
    "    plt.plot(obs_times[traj].squeeze(), obs_values[traj].squeeze(), linewidth=0.5)"
   ]
  },
  {
   "cell_type": "code",
   "execution_count": null,
   "id": "d32a5107-fbe5-4155-a399-14ff736c1056",
   "metadata": {},
   "outputs": [],
   "source": [
    "# plot length 128 chunks\n",
    "trajectory_num = 0\n",
    "chunk_count = 5\n",
    "chunk_length = 128\n",
    "\n",
    "for chunk in range(chunk_count):\n",
    "    plt.plot(obs_times[trajectory_num, chunk * chunk_length : (chunk + 1) * chunk_length], obs_values[trajectory_num, chunk * chunk_length : (chunk + 1) * chunk_length])"
   ]
  },
  {
   "cell_type": "code",
   "execution_count": null,
   "id": "502f1e48-67dc-4d59-90c8-366a270abf07",
   "metadata": {},
   "outputs": [],
   "source": [
    "# plot length 128 chunks all starting at 0\n",
    "trajectory_num = 0\n",
    "chunk_count = 10\n",
    "chunk_length = 128\n",
    "\n",
    "for chunk in range(chunk_count):\n",
    "    plt.plot(obs_times[trajectory_num, 0 : chunk_length], obs_values[trajectory_num, chunk * chunk_length : (chunk + 1) * chunk_length])"
   ]
  },
  {
   "cell_type": "markdown",
   "id": "40de9aa0-2466-44ae-b00f-720876c5829e",
   "metadata": {},
   "source": [
    "## Wang 2022 - synthetic two-dimensional SDE (Example 5, Supplementary material S3.5)"
   ]
  },
  {
   "cell_type": "code",
   "execution_count": null,
   "id": "71c9d229-bba0-4f22-b94f-584e44ee8287",
   "metadata": {},
   "outputs": [],
   "source": [
    "wang_data_dir = \"/cephfs_projects/foundation_models/data/SDE_synthetic_test_sets/\"\n",
    "obs_times_file = \"double_well2_grid.pickle\"\n",
    "obs_values_file = \"double_well2_values.pickle\"\n",
    "\n",
    "obs_times = load_data(batz_data_dir + \"/\" + obs_times_file)\n",
    "obs_values = load_data(batz_data_dir + \"/\" + obs_values_file)\n",
    "\n",
    "print(\"Observation times shape: \", obs_times.shape)\n",
    "print(\"Observation values shape: \", obs_values.shape)"
   ]
  },
  {
   "cell_type": "code",
   "execution_count": null,
   "id": "7fa21802-2f46-4220-8f73-81b355f7f47f",
   "metadata": {},
   "outputs": [],
   "source": [
    "obs_times = obs_times.squeeze()\n",
    "obs_values = obs_values.squeeze()"
   ]
  },
  {
   "cell_type": "code",
   "execution_count": null,
   "id": "a113d5fd-a91d-44db-92f1-811d18f2a8ce",
   "metadata": {},
   "outputs": [],
   "source": [
    "chunk_length = 128\n",
    "\n",
    "chunk_count = int(obs_times.shape[0] / chunk_length)\n",
    "print(f\"Chunked into chunks of length {chunk_length} it yields {chunk_count} trajectories.\")"
   ]
  },
  {
   "cell_type": "code",
   "execution_count": null,
   "id": "558b7584-3b48-49eb-9e14-a6dccc568add",
   "metadata": {},
   "outputs": [],
   "source": [
    "# plot one complete trajectory for each dimension separately\n",
    "plt.plot(obs_times, obs_values, linewidth=0.5, color=\"black\")"
   ]
  },
  {
   "cell_type": "markdown",
   "id": "ef403e99-e7cb-4ca6-8608-1406d3f5134d",
   "metadata": {},
   "source": [
    "## Beijing Air Quality Data"
   ]
  },
  {
   "cell_type": "code",
   "execution_count": null,
   "id": "26f8021e-6219-424c-a4e2-f58c6cc4d6a2",
   "metadata": {},
   "outputs": [],
   "source": [
    "air_quality_dir = \"/cephfs_projects/foundation_models/data/SDE_beijing_air_quality\"\n",
    "files = {\n",
    "    \"Aotizhongxin\": \"PRSA_Data_Aotizhongxin_20130301-20170228.pickle\",\n",
    "    \"Changping\": \"PRSA_Data_Changping_20130301-20170228.pickle\",\n",
    "    \"Dingling\": \"PRSA_Data_Dingling_20130301-20170228.pickle\",\n",
    "    \"Dongsi\": \"PRSA_Data_Dongsi_20130301-20170228.pickle\",\n",
    "    \"Guanyuan\": \"PRSA_Data_Guanyuan_20130301-20170228.pickle\",\n",
    "    \"Gucheng\": \"PRSA_Data_Gucheng_20130301-20170228.pickle\",\n",
    "    \"Huairou\": \"PRSA_Data_Huairou_20130301-20170228.pickle\",\n",
    "    \"Nongzhanguan\": \"PRSA_Data_Nongzhanguan_20130301-20170228.pickle\",\n",
    "    \"Shunyi\": \"PRSA_Data_Shunyi_20130301-20170228.pickle\",\n",
    "    \"Tiantan\": \"PRSA_Data_Tiantan_20130301-20170228.pickle\",\n",
    "    \"Wanliu\": \"PRSA_Data_Wanliu_20130301-20170228.pickle\",\n",
    "    \"Wanshouxigong\": \"PRSA_Data_Wanshouxigong_20130301-20170228.pickle\",\n",
    "}\n",
    "\n",
    "datasets = {key: load_data(air_quality_dir + \"/\" + value) for key, value in files.items()}\n",
    "\n",
    "print(\"Observations per file: \")\n",
    "for key, value in datasets.items():\n",
    "    print(key, value.shape)"
   ]
  },
  {
   "cell_type": "code",
   "execution_count": null,
   "id": "ff5b5fb7-843a-4438-855b-8a960a43124a",
   "metadata": {},
   "outputs": [],
   "source": [
    "chunk_length = 128\n",
    "\n",
    "chunk_count = int(datasets[\"Wanshouxigong\"].shape[0] / chunk_length)\n",
    "print(f\"Chunked into chunks of length {chunk_length}, a single dimension of each trajectory yields {chunk_count} trajectories.\")"
   ]
  },
  {
   "cell_type": "code",
   "execution_count": null,
   "id": "de8b297c-7ea5-4d5e-bd95-2631080fe28c",
   "metadata": {},
   "outputs": [],
   "source": []
  },
  {
   "cell_type": "code",
   "execution_count": null,
   "id": "87a4743f-5f9a-473d-87f1-580b81cb18ac",
   "metadata": {},
   "outputs": [],
   "source": []
  },
  {
   "cell_type": "code",
   "execution_count": null,
   "id": "9c1fc5a5-fd92-49c1-aefa-3b99b73bb481",
   "metadata": {},
   "outputs": [],
   "source": [
    "# Plot all dimensions of one key\n",
    "key = \"Wanshouxigong\"\n",
    "\n",
    "fig, axs = plt.subplots(6, 1)\n",
    "\n",
    "for dim in range(6):\n",
    "    axs[dim].plot(datasets[key][:,dim])"
   ]
  },
  {
   "cell_type": "code",
   "execution_count": null,
   "id": "7c8bd4d4-7854-403e-92e5-8de7e6a5ccc6",
   "metadata": {},
   "outputs": [],
   "source": [
    "# Plot all dimensions of one key in smaller chunks\n",
    "chunk_count = 10\n",
    "chunk_length = 128\n",
    "\n",
    "fig, axs = plt.subplots(6, 1)\n",
    "\n",
    "dummy_times = np.arange(datasets[key].shape[0])\n",
    "for dim in range(6):\n",
    "    for chunk in range(chunk_count):\n",
    "        axs[dim].plot(dummy_times[chunk * chunk_length : (chunk + 1) * chunk_length], datasets[key][chunk * chunk_length : (chunk + 1) * chunk_length:,dim])"
   ]
  },
  {
   "cell_type": "code",
   "execution_count": null,
   "id": "efd334de-8023-4359-8404-804e3ad323c6",
   "metadata": {},
   "outputs": [],
   "source": [
    "# Plot all dimensions of one key in smaller chunks, starting at same times\n",
    "chunk_count = 10\n",
    "chunk_length = 128\n",
    "\n",
    "fig, axs = plt.subplots(6, 1)\n",
    "\n",
    "for dim in range(6):\n",
    "    for chunk in range(chunk_count):\n",
    "        axs[dim].plot(datasets[key][chunk * chunk_length : (chunk + 1) * chunk_length:,dim])"
   ]
  },
  {
   "cell_type": "markdown",
   "id": "e458aa65-9548-4ef9-9d7f-d06502ab5b12",
   "metadata": {},
   "source": [
    "## Wang 2022 - Real world datasets\n",
    "### Stocks"
   ]
  },
  {
   "cell_type": "code",
   "execution_count": null,
   "id": "3ae47c9e-5c43-4e95-97e6-136245ffc5e3",
   "metadata": {},
   "outputs": [],
   "source": [
    "files_dir = \"/cephfs_projects/foundation_models/data/SDE_data_driven_BISDE_datasets/stonks\"\n",
    "files = {\n",
    "    \"facebook\": \"fb_stock_price.pickle\",\n",
    "    \"tesla\": \"tsla_stock_price.pickle\"\n",
    "}\n",
    "\n",
    "datasets = {key: load_data(files_dir + \"/\" + value) for key, value in files.items()}\n",
    "\n",
    "print(\"Observations per file: \")\n",
    "for key, value in datasets.items():\n",
    "    print(key, value.shape)"
   ]
  },
  {
   "cell_type": "code",
   "execution_count": null,
   "id": "bfc8a883-40f3-4976-9a75-9972a18a2dd0",
   "metadata": {},
   "outputs": [],
   "source": [
    "chunk_length = 128\n",
    "\n",
    "chunk_count = int(datasets[\"tesla\"].shape[0] / chunk_length)\n",
    "print(f\"Chunked into chunks of length {chunk_length}, each trajectory yields {chunk_count} trajectories.\")"
   ]
  },
  {
   "cell_type": "code",
   "execution_count": null,
   "id": "8ea8c40f-285e-4b1c-922d-120ba3dafcc2",
   "metadata": {},
   "outputs": [],
   "source": [
    "# Plot complete trajectory for both stocks\n",
    "fig, axs = plt.subplots(2, 1)\n",
    "\n",
    "for num, (name, stock) in enumerate(datasets.items()):\n",
    "    axs[num].plot(stock, label=name)\n",
    "    axs[num].legend()"
   ]
  },
  {
   "cell_type": "code",
   "execution_count": null,
   "id": "cf135061-e7cb-4433-85ac-c5f252df0dd0",
   "metadata": {},
   "outputs": [],
   "source": [
    "# Plot chunks per stock\n",
    "chunk_count = 10\n",
    "chunk_length = 128\n",
    "\n",
    "dummy_times = np.arange(datasets[key].shape[0])\n",
    "\n",
    "fig, axs = plt.subplots(2, 1)\n",
    "for chunk in range(chunk_count):\n",
    "    for num, (name, stock) in enumerate(datasets.items()):\n",
    "        axs[num].plot(dummy_times[chunk * chunk_length : (chunk + 1) * chunk_length], stock[chunk * chunk_length : (chunk + 1) * chunk_length])\n",
    "        axs[num].set_ylabel(name)"
   ]
  },
  {
   "cell_type": "code",
   "execution_count": null,
   "id": "b584d744-be4c-4d27-a6bf-fc009643dd44",
   "metadata": {},
   "outputs": [],
   "source": [
    "# Plot chunks per stock starting at 0\n",
    "chunk_count = 10\n",
    "chunk_length = 128\n",
    "\n",
    "fig, axs = plt.subplots(2, 1)\n",
    "for chunk in range(chunk_count):\n",
    "    for num, (name, stock) in enumerate(datasets.items()):\n",
    "        axs[num].plot(stock[chunk * chunk_length : (chunk + 1) * chunk_length])\n",
    "        axs[num].set_ylabel(name)"
   ]
  },
  {
   "cell_type": "markdown",
   "id": "eeb92566-9e79-4978-87ae-1a5a53406426",
   "metadata": {},
   "source": [
    "## Wind"
   ]
  },
  {
   "cell_type": "code",
   "execution_count": null,
   "id": "dff7034b-d2fe-47ca-a86a-953aac823782",
   "metadata": {},
   "outputs": [],
   "source": [
    "files_dir = \"/cephfs_projects/foundation_models/data/SDE_data_driven_BISDE_datasets/wind\"\n",
    "files = {\n",
    "    \"fluctuations\": \"wind_speed_fluctuations.pickle\",\n",
    "    \"speed\": \"wind_speeds.pickle\"\n",
    "}\n",
    "\n",
    "datasets = {key: load_data(files_dir + \"/\" + value) for key, value in files.items()}\n",
    "\n",
    "print(\"Observations per file: \")\n",
    "for key, value in datasets.items():\n",
    "    print(key, value.shape)"
   ]
  },
  {
   "cell_type": "code",
   "execution_count": null,
   "id": "3daa7638-16b4-4d0a-b396-9ef2f4e076d2",
   "metadata": {},
   "outputs": [],
   "source": [
    "chunk_length = 128\n",
    "\n",
    "chunk_count = int(datasets[\"speed\"].shape[0] / chunk_length)\n",
    "print(f\"Chunked into chunks of length {chunk_length}, each trajectory yields {chunk_count} trajectories.\")"
   ]
  },
  {
   "cell_type": "code",
   "execution_count": null,
   "id": "129cb6da-6992-4ee0-a29a-42b93d7ff82c",
   "metadata": {},
   "outputs": [],
   "source": [
    "# Plot complete trajectory for both\n",
    "fig, axs = plt.subplots(2, 1)\n",
    "\n",
    "for num, (name, stock) in enumerate(datasets.items()):\n",
    "    axs[num].plot(stock, label=name)\n",
    "    axs[num].legend()"
   ]
  },
  {
   "cell_type": "code",
   "execution_count": null,
   "id": "fa860f6b-053d-45ec-9af1-1312c2afe865",
   "metadata": {},
   "outputs": [],
   "source": [
    "# Plot chunks\n",
    "chunk_count = 10\n",
    "chunk_length = 128\n",
    "\n",
    "dummy_times = np.arange(datasets[key].shape[0])\n",
    "\n",
    "fig, axs = plt.subplots(2, 1)\n",
    "for chunk in range(chunk_count):\n",
    "    for num, (name, stock) in enumerate(datasets.items()):\n",
    "        axs[num].plot(dummy_times[chunk * chunk_length : (chunk + 1) * chunk_length], stock[chunk * chunk_length : (chunk + 1) * chunk_length])\n",
    "        axs[num].set_ylabel(name)"
   ]
  },
  {
   "cell_type": "code",
   "execution_count": null,
   "id": "d219cc3e-c65c-4af4-b367-b074a48e4dd0",
   "metadata": {},
   "outputs": [],
   "source": [
    "# Plot chunks starting at 0\n",
    "chunk_count = 10\n",
    "chunk_length = 128\n",
    "\n",
    "fig, axs = plt.subplots(2, 1)\n",
    "for chunk in range(chunk_count):\n",
    "    for num, (name, stock) in enumerate(datasets.items()):\n",
    "        axs[num].plot(stock[chunk * chunk_length : (chunk + 1) * chunk_length])\n",
    "        axs[num].set_ylabel(name)"
   ]
  },
  {
   "cell_type": "markdown",
   "id": "8e038c0b-9e6b-409d-aba4-38a11665b7b7",
   "metadata": {},
   "source": [
    "## Oil"
   ]
  },
  {
   "cell_type": "code",
   "execution_count": null,
   "id": "fb770663-b40b-45bc-bdf1-c33eb098899a",
   "metadata": {},
   "outputs": [],
   "source": [
    "files_dir = \"/cephfs_projects/foundation_models/data/SDE_data_driven_BISDE_datasets/oil\"\n",
    "files = {\n",
    "    \"fluctuations\": \"oil_price_fluctuations.pickle\",\n",
    "    \"price\": \"oil_prices.pickle\"\n",
    "}\n",
    "\n",
    "datasets = {key: load_data(files_dir + \"/\" + value) for key, value in files.items()}\n",
    "\n",
    "print(\"Observations per file: \")\n",
    "for key, value in datasets.items():\n",
    "    print(key, value.shape)"
   ]
  },
  {
   "cell_type": "code",
   "execution_count": null,
   "id": "0bc164ff-9874-4c09-acb8-cff205fad9c2",
   "metadata": {},
   "outputs": [],
   "source": [
    "chunk_length = 128\n",
    "\n",
    "chunk_count = int(datasets[\"price\"].shape[0] / chunk_length)\n",
    "print(f\"Chunked into chunks of length {chunk_length}, each trajectory yields {chunk_count} trajectories.\")"
   ]
  },
  {
   "cell_type": "code",
   "execution_count": null,
   "id": "26afadbb-1414-4926-bee3-167bde5e145e",
   "metadata": {},
   "outputs": [],
   "source": [
    "# Plot complete trajectory for both\n",
    "fig, axs = plt.subplots(2, 1)\n",
    "\n",
    "for num, (name, stock) in enumerate(datasets.items()):\n",
    "    axs[num].plot(stock, label=name)\n",
    "    axs[num].legend()"
   ]
  },
  {
   "cell_type": "code",
   "execution_count": null,
   "id": "bf406354-c2c1-45d0-86a1-f15d1c07992b",
   "metadata": {},
   "outputs": [],
   "source": [
    "# Plot chunks\n",
    "chunk_count = 10\n",
    "chunk_length = 128\n",
    "\n",
    "dummy_times = np.arange(datasets[key].shape[0])\n",
    "\n",
    "fig, axs = plt.subplots(2, 1)\n",
    "for chunk in range(chunk_count):\n",
    "    for num, (name, stock) in enumerate(datasets.items()):\n",
    "        axs[num].plot(dummy_times[chunk * chunk_length : (chunk + 1) * chunk_length], stock[chunk * chunk_length : (chunk + 1) * chunk_length])\n",
    "        axs[num].set_ylabel(name)"
   ]
  },
  {
   "cell_type": "code",
   "execution_count": null,
   "id": "f9f5e139-0f98-422f-b365-8ca296d703e3",
   "metadata": {},
   "outputs": [],
   "source": [
    "# Plot chunks starting at 0\n",
    "chunk_count = 10\n",
    "chunk_length = 128\n",
    "\n",
    "fig, axs = plt.subplots(2, 1)\n",
    "for chunk in range(chunk_count):\n",
    "    for num, (name, stock) in enumerate(datasets.items()):\n",
    "        axs[num].plot(stock[chunk * chunk_length : (chunk + 1) * chunk_length])\n",
    "        axs[num].set_ylabel(name)"
   ]
  },
  {
   "cell_type": "code",
   "execution_count": null,
   "id": "bf0978e0-f861-48cd-8759-90fcde7bed51",
   "metadata": {},
   "outputs": [],
   "source": []
  }
 ],
 "metadata": {
  "language_info": {
   "name": "python"
  }
 },
 "nbformat": 4,
 "nbformat_minor": 5
}
