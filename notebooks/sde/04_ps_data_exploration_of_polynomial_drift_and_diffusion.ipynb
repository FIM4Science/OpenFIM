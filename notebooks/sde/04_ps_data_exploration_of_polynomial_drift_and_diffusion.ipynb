{
 "cells": [
  {
   "cell_type": "code",
   "execution_count": null,
   "id": "179481e1-27dc-4653-b9da-ac4b54fafd58",
   "metadata": {
    "scrolled": true
   },
   "outputs": [],
   "source": [
    "from fim.utils.plots.sde_data_exploration_plots import show_paths_vector_fields_and_statistics\n",
    "from fim.data.data_generation.dynamical_systems import DynamicalSystem, HybridDynamicalSystem, Degree2Polynomial, Lorenz63System\n",
    "#%matplotlib widget"
   ]
  },
  {
   "cell_type": "markdown",
   "id": "c9eb17d5-6646-40e7-9a63-174b52d5f98b",
   "metadata": {},
   "source": [
    "## Global setup"
   ]
  },
  {
   "cell_type": "code",
   "execution_count": null,
   "id": "e6598fed-06ae-4a0e-a320-24f38165559c",
   "metadata": {},
   "outputs": [],
   "source": [
    "global_state_dim = 2\n",
    "\n",
    "global_num_realizations = 5\n",
    "global_num_paths = 20\n",
    "global_show_equation = True\n",
    "\n",
    "global_bernoulli_survival_rate = 0.5\n",
    "\n",
    "global_enforce_positivity = \"clip\"\n",
    "\n",
    "global_sample_scale_per_dimension = True\n",
    "\n",
    "integration_config = {\n",
    "    \"method\": \"EulerMaruyama\",\n",
    "    \"time_step\": 0.01,\n",
    "    \"num_steps\": 1000,\n",
    "    \"num_paths\": 20,\n",
    "    \"num_locations\": 1000,\n",
    "    \"stochastic\": True,\n",
    "}\n",
    "\n",
    "locations_params = {\n",
    "    \"type\": \"random_cube\", \n",
    "    \"extension_perc\": 0.0\n",
    "}\n",
    "\n",
    "fig_config = {\n",
    "    \"dpi\": 300, \n",
    "    \"figsize\": 4\n",
    "}\n",
    "\n",
    "paths_plt_config = {\n",
    "    \"linewidth\": 0.5,\n",
    "}\n",
    "\n",
    "normal_initial_state = {\n",
    "        \"distribution\": \"normal\",\n",
    "        \"mean\": 0.0,\n",
    "        \"std_dev\": 1.0,\n",
    "        \"activation\": None,\n",
    "    }\n",
    "\n",
    "uniform_initial_state = {\n",
    "    \"distribution\": \"uniform\", \n",
    "    \"min\": -10, \n",
    "    \"max\": 10,\n",
    "    \"activation\": None,\n",
    "}\n",
    "\n",
    "zero_dist = {\n",
    "    \"distribution\": \"fix\", \n",
    "    \"fix_value\": 0.0\n",
    "}\n",
    "standard_normal_dist_with_bernoulli = {\n",
    "        \"distribution\": \"normal\",\n",
    "        \"mean\": 0.0,\n",
    "        \"std\": 1.0,\n",
    "        \"bernoulli_survival_rate\": global_bernoulli_survival_rate,\n",
    "    }\n",
    "uniform_0_1_dist_with_bernoulli = {\n",
    "        \"distribution\": \"uniform\",\n",
    "        \"min\": 0.0,\n",
    "        \"max\": 1.0,\n",
    "        \"bernoulli_survival_rate\": global_bernoulli_survival_rate,\n",
    "    }\n",
    "uniform_0_1_dist = {\n",
    "        \"distribution\": \"uniform\",\n",
    "        \"min\": 0.0,\n",
    "        \"max\": 1.0,\n",
    "        \"bernoulli_survival_rate\": 1.0,\n",
    "    }\n",
    "\n",
    "scale_uniform = {      \n",
    "    \"sample_per_dimension\": global_sample_scale_per_dimension,\n",
    "    \"distribution\": \"uniform\",\n",
    "    \"min\": 0,\n",
    "    \"max\": 1,    \n",
    "}\n",
    "scale_fix = {      \n",
    "    \"distribution\": \"fix\",\n",
    "    \"fix_value\": 1.0 \n",
    "}\n",
    "\n",
    "def show_general_plots(system):\n",
    "    show_paths_vector_fields_and_statistics(system, integration_config, locations_params, fig_config, paths_plt_config)"
   ]
  },
  {
   "cell_type": "markdown",
   "id": "6c832f0c-7bbb-4fe5-8e63-50ee3c61c5d8",
   "metadata": {},
   "source": [
    "# Diffusion: sqrt(max(0, polynomial))"
   ]
  },
  {
   "cell_type": "markdown",
   "id": "1e58f86a-c314-4bf0-93db-0a99da328792",
   "metadata": {},
   "source": [
    "## Initial states: from normal distribution"
   ]
  },
  {
   "cell_type": "markdown",
   "id": "e9746bd5-12f1-4b28-95b8-0b66fa31765c",
   "metadata": {},
   "source": [
    "### Coefficients: all standard normal with bernoulli"
   ]
  },
  {
   "cell_type": "code",
   "execution_count": null,
   "id": "17787cab-fac4-468a-8141-870158e7e7c6",
   "metadata": {
    "scrolled": true
   },
   "outputs": [],
   "source": [
    "process_hyperparameters = {\n",
    "    \"name\": \"Degree2Polynomial\",\n",
    "    \"data_bulk_name\": \"damped_linear_theory\",\n",
    "    \"redo\": True,\n",
    "    \"num_realizations\": global_num_realizations,\n",
    "    \"state_dim\": global_state_dim,\n",
    "    \"enforce_positivity\": global_enforce_positivity, \n",
    "    \"show_equation\": global_show_equation,\n",
    "    \"observed_dimension\": None,\n",
    "    \"drift_params\": {\n",
    "        \"constant\": zero_dist,\n",
    "        \"degree_1\": zero_dist,\n",
    "        \"degree_2_squared\": zero_dist,\n",
    "        \"degree_2_mixed\": zero_dist,\n",
    "        \"scale\": scale_uniform\n",
    "    },\n",
    "    \"diffusion_params\": {\n",
    "        \"constant\": standard_normal_dist_with_bernoulli,\n",
    "        \"degree_1\": standard_normal_dist_with_bernoulli,\n",
    "        \"degree_2_squared\": standard_normal_dist_with_bernoulli,\n",
    "        \"degree_2_mixed\": standard_normal_dist_with_bernoulli,\n",
    "        \"scale\": scale_uniform\n",
    "    },\n",
    "    \"initial_state\": normal_initial_state,\n",
    "}\n",
    "show_general_plots(Degree2Polynomial(process_hyperparameters))"
   ]
  },
  {
   "cell_type": "markdown",
   "id": "44977faa-223a-4fd7-8b31-24be62ea8cb8",
   "metadata": {},
   "source": [
    "### Coefficients: No mixed degree 2 monomials"
   ]
  },
  {
   "cell_type": "code",
   "execution_count": null,
   "id": "a3a23c68-a1fb-4455-aa24-ad72ebc78f35",
   "metadata": {
    "scrolled": true
   },
   "outputs": [],
   "source": [
    "process_hyperparameters = {\n",
    "    \"name\": \"Degree2Polynomial\",\n",
    "    \"data_bulk_name\": \"damped_linear_theory\",\n",
    "    \"redo\": True,\n",
    "    \"num_realizations\": global_num_realizations,\n",
    "    \"state_dim\": global_state_dim,\n",
    "    \"enforce_positivity\": global_enforce_positivity, \n",
    "    \"show_equation\": global_show_equation,\n",
    "    \"observed_dimension\": None,\n",
    "    \"drift_params\": {},\n",
    "    \"diffusion_params\": {\n",
    "        \"constant\": standard_normal_dist_with_bernoulli,\n",
    "        \"degree_1\": standard_normal_dist_with_bernoulli,\n",
    "        \"degree_2_squared\": standard_normal_dist_with_bernoulli,\n",
    "        \"degree_2_mixed\": zero_dist,\n",
    "        \"scale\": scale_uniform\n",
    "    },\n",
    "    \"initial_state\": normal_initial_state,\n",
    "}\n",
    "show_general_plots(Degree2Polynomial(process_hyperparameters))"
   ]
  },
  {
   "cell_type": "markdown",
   "id": "ec20bc97-3c56-4a2a-9f58-3d960cd6341e",
   "metadata": {},
   "source": [
    "### Coefficients: No mixed degree 2 monomials and no degree 1 monomials"
   ]
  },
  {
   "cell_type": "code",
   "execution_count": null,
   "id": "fc942db2-7af2-4df7-aeda-65e7ad5d2f7f",
   "metadata": {},
   "outputs": [],
   "source": [
    "process_hyperparameters = {\n",
    "    \"name\": \"Degree2Polynomial\",\n",
    "    \"data_bulk_name\": \"damped_linear_theory\",\n",
    "    \"redo\": True,\n",
    "    \"num_realizations\": global_num_realizations,\n",
    "    \"state_dim\": global_state_dim,\n",
    "    \"enforce_positivity\": global_enforce_positivity, \n",
    "    \"show_equation\": global_show_equation,\n",
    "    \"observed_dimension\": None,\n",
    "    \"drift_params\": {},\n",
    "    \"diffusion_params\": {\n",
    "        \"constant\": standard_normal_dist_with_bernoulli,\n",
    "        \"degree_1\": zero_dist,\n",
    "        \"degree_2_squared\": standard_normal_dist_with_bernoulli,\n",
    "        \"degree_2_mixed\": zero_dist,\n",
    "        \"scale\": scale_uniform\n",
    "    },\n",
    "    \"initial_state\": normal_initial_state,\n",
    "}\n",
    "show_general_plots(Degree2Polynomial(process_hyperparameters))"
   ]
  },
  {
   "cell_type": "markdown",
   "id": "98862ab8-9333-49a8-a03c-d93f064fefe9",
   "metadata": {},
   "source": [
    "### Coefficients: No mixed degree 2 monomials and no degree 1 monomials - Sampled from U([0, 1])"
   ]
  },
  {
   "cell_type": "code",
   "execution_count": null,
   "id": "e1294054-fce7-4b0b-b027-cf7a38aca1b6",
   "metadata": {},
   "outputs": [],
   "source": []
  },
  {
   "cell_type": "code",
   "execution_count": null,
   "id": "8c9b9997-0256-4760-a893-33d06a410212",
   "metadata": {},
   "outputs": [],
   "source": [
    "process_hyperparameters = {\n",
    "    \"name\": \"Degree2Polynomial\",\n",
    "    \"data_bulk_name\": \"damped_linear_theory\",\n",
    "    \"redo\": True,\n",
    "    \"num_realizations\": global_num_realizations,\n",
    "    \"state_dim\": global_state_dim,\n",
    "    \"enforce_positivity\": global_enforce_positivity, \n",
    "    \"show_equation\": global_show_equation,\n",
    "    \"observed_dimension\": None,\n",
    "    \"drift_params\": {},\n",
    "    \"diffusion_params\": {\n",
    "        \"constant\": uniform_0_1_dist,\n",
    "        \"degree_1\": zero_dist,\n",
    "        \"degree_2_squared\": uniform_0_1_dist,\n",
    "        \"degree_2_mixed\": zero_dist,\n",
    "        \"scale\": scale_uniform\n",
    "    },\n",
    "    \"initial_state\": normal_initial_state,\n",
    "}\n",
    "show_general_plots(Degree2Polynomial(process_hyperparameters))"
   ]
  },
  {
   "cell_type": "code",
   "execution_count": null,
   "id": "782f012d-4122-427b-845e-e34d3e9f4486",
   "metadata": {},
   "outputs": [],
   "source": []
  },
  {
   "cell_type": "code",
   "execution_count": null,
   "id": "595b0d34-f336-48b9-b752-4319fe3a6e60",
   "metadata": {},
   "outputs": [],
   "source": []
  },
  {
   "cell_type": "markdown",
   "id": "bf04dbe8-cb01-43b2-a897-00438aa65ed5",
   "metadata": {},
   "source": [
    "## Initial states: from uniform distribution"
   ]
  },
  {
   "cell_type": "markdown",
   "id": "3de49594-644c-4af4-94f6-11c2ed0c1c38",
   "metadata": {},
   "source": [
    "### Coefficients: all standard normal with bernoulli"
   ]
  },
  {
   "cell_type": "code",
   "execution_count": null,
   "id": "1dea71b1-45fa-4c74-abe2-37e0777dd8f6",
   "metadata": {},
   "outputs": [],
   "source": [
    "process_hyperparameters = {\n",
    "    \"name\": \"Degree2Polynomial\",\n",
    "    \"data_bulk_name\": \"damped_linear_theory\",\n",
    "    \"redo\": True,\n",
    "    \"num_realizations\": global_num_realizations,\n",
    "    \"state_dim\": global_state_dim,\n",
    "    \"enforce_positivity\": global_enforce_positivity, \n",
    "    \"show_equation\": global_show_equation,\n",
    "    \"observed_dimension\": None,\n",
    "    \"drift_params\": {},\n",
    "    \"diffusion_params\": {\n",
    "        \"constant\": standard_normal_dist_with_bernoulli,\n",
    "        \"degree_1\": standard_normal_dist_with_bernoulli,\n",
    "        \"degree_2_squared\": standard_normal_dist_with_bernoulli,\n",
    "        \"degree_2_mixed\": standard_normal_dist_with_bernoulli,\n",
    "        \"scale\": scale_uniform\n",
    "    },\n",
    "    \"initial_state\": uniform_initial_state,\n",
    "}\n",
    "show_general_plots(Degree2Polynomial(process_hyperparameters))"
   ]
  },
  {
   "cell_type": "markdown",
   "id": "21109ad5-c508-4a82-b15d-907f19df4b6d",
   "metadata": {},
   "source": [
    "### Coefficients: No mixed degree 2 monomials and no degree 1 monomials - Sampled from U([0, 1])"
   ]
  },
  {
   "cell_type": "code",
   "execution_count": null,
   "id": "9bd6589f-a6fe-4d3e-8593-2dcd71ccabb0",
   "metadata": {},
   "outputs": [],
   "source": [
    "process_hyperparameters = {\n",
    "    \"name\": \"Degree2Polynomial\",\n",
    "    \"data_bulk_name\": \"damped_linear_theory\",\n",
    "    \"redo\": True,\n",
    "    \"num_realizations\": global_num_realizations,\n",
    "    \"state_dim\": global_state_dim,\n",
    "    \"enforce_positivity\": global_enforce_positivity, \n",
    "    \"show_equation\": global_show_equation,\n",
    "    \"observed_dimension\": None,\n",
    "    \"drift_params\": {},\n",
    "    \"diffusion_params\": {\n",
    "        \"constant\": uniform_0_1_dist,\n",
    "        \"degree_1\": zero_dist,\n",
    "        \"degree_2_squared\": uniform_0_1_dist,\n",
    "        \"degree_2_mixed\": zero_dist,\n",
    "        \"scale\": scale_uniform\n",
    "    },\n",
    "    \"initial_state\": uniform_initial_state,\n",
    "}\n",
    "show_general_plots(Degree2Polynomial(process_hyperparameters))"
   ]
  },
  {
   "cell_type": "code",
   "execution_count": null,
   "id": "880bdec8-1e45-4ca4-b634-7e03204b4d6b",
   "metadata": {},
   "outputs": [],
   "source": []
  },
  {
   "cell_type": "markdown",
   "id": "eb7d225a-5126-44e0-b538-66abeca531f0",
   "metadata": {},
   "source": [
    "## With linear drift"
   ]
  },
  {
   "cell_type": "markdown",
   "id": "7ed3b0a4-e485-4703-ac1f-ee82f9abc3b1",
   "metadata": {},
   "source": [
    "### Diffusion Coefficients: No mixed degree 2 monomials and no degree 1 monomials - Sampled from U([0, 1])"
   ]
  },
  {
   "cell_type": "code",
   "execution_count": null,
   "id": "5cf7eb22-e27e-41e8-8416-f038505a2fed",
   "metadata": {},
   "outputs": [],
   "source": [
    "drift_hyperparameters = {\n",
    "    \"name\": \"Degree2Polynomial\",\n",
    "    \"data_bulk_name\": \"damped_linear_theory\",\n",
    "    \"redo\": True,\n",
    "    \"num_realizations\": global_num_realizations,\n",
    "    \"state_dim\": global_state_dim,\n",
    "    \"show_equation\": global_show_equation,\n",
    "    \"observed_dimension\": None,\n",
    "    \"drift_params\": {\n",
    "        \"constant\": standard_normal_dist_with_bernoulli,\n",
    "        \"degree_1\": standard_normal_dist_with_bernoulli,\n",
    "        \"degree_2_squared\": zero_dist,\n",
    "        \"degree_2_mixed\": zero_dist,\n",
    "        \"scale\": scale_uniform\n",
    "    },\n",
    "    \"diffusion_params\": {},\n",
    "    \"initial_state\": uniform_initial_state,\n",
    "}\n",
    "drift_system = Degree2Polynomial(drift_hyperparameters)\n",
    "\n",
    "diffusion_hyperparameters = {\n",
    "    \"name\": \"Degree2Polynomial\",\n",
    "    \"data_bulk_name\": \"damped_linear_theory\",\n",
    "    \"redo\": True,\n",
    "    \"num_realizations\": global_num_realizations,\n",
    "    \"state_dim\": global_state_dim,\n",
    "    \"enforce_positivity\": global_enforce_positivity, \n",
    "    \"show_equation\": global_show_equation,\n",
    "    \"observed_dimension\": None,\n",
    "    \"drift_params\": {},\n",
    "    \"diffusion_params\": {\n",
    "        \"constant\": uniform_0_1_dist,\n",
    "        \"degree_1\": zero_dist,\n",
    "        \"degree_2_squared\": uniform_0_1_dist,\n",
    "        \"degree_2_mixed\": zero_dist,\n",
    "        \"scale\": scale_uniform\n",
    "    },\n",
    "    \"initial_state\": uniform_initial_state,\n",
    "}\n",
    "diffusion_system = Degree2Polynomial(diffusion_hyperparameters)\n",
    "\n",
    "process_hyperparameters = {\n",
    "    \"name\": \"HybridDynamicalSystem\",\n",
    "    \"data_bulk_name\": \"damped_linear_theory\",\n",
    "    \"redo\": True,\n",
    "    \"num_realizations\": global_num_realizations,\n",
    "    \"enforce_positivity\": global_enforce_positivity, \n",
    "    \"observed_dimension\": None,\n",
    "    \"drift_dynamical_system\": drift_system,\n",
    "    \"diffusion_dynamical_system\": diffusion_system,\n",
    "    \"initial_state\": uniform_initial_state,\n",
    "}\n",
    "\n",
    "\n",
    "show_general_plots(HybridDynamicalSystem(process_hyperparameters))"
   ]
  },
  {
   "cell_type": "code",
   "execution_count": null,
   "id": "42bba5e2-1ae9-4ba9-ad48-421e9a86f1c0",
   "metadata": {},
   "outputs": [],
   "source": []
  },
  {
   "cell_type": "code",
   "execution_count": null,
   "id": "cf317be0-b33f-47e9-85e2-0fb4cc03a536",
   "metadata": {},
   "outputs": [],
   "source": []
  },
  {
   "cell_type": "code",
   "execution_count": null,
   "id": "c39ec227-c5ac-403b-93c6-44ef11f5e927",
   "metadata": {},
   "outputs": [],
   "source": []
  },
  {
   "cell_type": "markdown",
   "id": "de6a06e5-674b-41f3-a5f9-ac8c8b5c4ff7",
   "metadata": {},
   "source": [
    "## With Lorenz Drift"
   ]
  },
  {
   "cell_type": "code",
   "execution_count": null,
   "id": "98a9ee6c-42a3-4caf-bf48-756f725a983d",
   "metadata": {},
   "outputs": [],
   "source": [
    "drift_hyperparameters = {\n",
    "        \"name\": \"Lorenz63System\",\n",
    "        \"data_bulk_name\": \"lorenz_theory\",\n",
    "        \"redo\": True,\n",
    "        \"num_realizations\": global_num_realizations,\n",
    "        \"observed_dimension\": None,\n",
    "        \"drift_params\": {\n",
    "            \"sigma\": {\n",
    "                \"distribution\": \"fix\",\n",
    "                \"fix_value\": 10.0,\n",
    "            },\n",
    "            \"beta\": {\n",
    "                \"distribution\": \"fix\",\n",
    "                \"fix_value\": 2.66666666,\n",
    "            },\n",
    "            \"rho\": {\n",
    "                \"distribution\": \"fix\",\n",
    "                \"fix_value\": 28.0,\n",
    "            },\n",
    "        },\n",
    "        \"diffusion_params\": {\"constant_value\": 1.0, \"dimensions\": 3},\n",
    "        \"initial_state\": {\"distribution\": \"fix\", \"fix_value\": [-8.0, 7.0, 27.0], \"activation\": None},\n",
    "    }\n",
    "\n",
    "drift_system = Lorenz63System(drift_hyperparameters)\n",
    "\n",
    "diffusion_hyperparameters = {\n",
    "    \"name\": \"Degree2Polynomial\",\n",
    "    \"data_bulk_name\": \"damped_linear_theory\",\n",
    "    \"redo\": True,\n",
    "    \"num_realizations\": global_num_realizations,\n",
    "    \"state_dim\": 3,\n",
    "    \"enforce_positivity\": global_enforce_positivity, \n",
    "    \"show_equation\": global_show_equation,\n",
    "    \"observed_dimension\": None,\n",
    "    \"drift_params\": {},\n",
    "    \"diffusion_params\": {\n",
    "        \"constant\": uniform_0_1_dist,\n",
    "        \"degree_1\": uniform_0_1_dist,\n",
    "        \"degree_2_squared\": zero_dist,\n",
    "        \"degree_2_mixed\": uniform_0_1_dist,\n",
    "        \"scale\": scale_uniform\n",
    "    },\n",
    "    \"initial_state\": uniform_initial_state,\n",
    "}\n",
    "diffusion_system = Degree2Polynomial(diffusion_hyperparameters)\n",
    "\n",
    "process_hyperparameters = {\n",
    "    \"name\": \"HybridDynamicalSystem\",\n",
    "    \"data_bulk_name\": \"damped_linear_theory\",\n",
    "    \"redo\": True,\n",
    "    \"num_realizations\": global_num_realizations,\n",
    "    \"enforce_positivity\": global_enforce_positivity, \n",
    "    \"observed_dimension\": None,\n",
    "    \"drift_dynamical_system\": drift_system,\n",
    "    \"diffusion_dynamical_system\": diffusion_system,\n",
    "    \"initial_state\": uniform_initial_state,\n",
    "}\n",
    "\n",
    "\n",
    "show_general_plots(HybridDynamicalSystem(process_hyperparameters))"
   ]
  },
  {
   "cell_type": "code",
   "execution_count": null,
   "id": "268af472-55ae-4b35-9b4e-3c5e4b731da9",
   "metadata": {},
   "outputs": [],
   "source": []
  },
  {
   "cell_type": "code",
   "execution_count": null,
   "id": "405b3e0a-d46f-46b6-9bc4-fd5518ce3420",
   "metadata": {},
   "outputs": [],
   "source": []
  },
  {
   "cell_type": "markdown",
   "id": "a9a58958-29fe-411f-84c7-d7dd8d57c358",
   "metadata": {},
   "source": [
    "## Polynomial drift and diffusion"
   ]
  },
  {
   "cell_type": "markdown",
   "id": "7fdbb6f9-13db-4939-9eeb-fb9860063383",
   "metadata": {},
   "source": [
    "### All coefficients sampled standard normal"
   ]
  },
  {
   "cell_type": "code",
   "execution_count": null,
   "id": "b202c423-1038-41fc-923a-3d27280e5879",
   "metadata": {},
   "outputs": [],
   "source": [
    "process_hyperparameters = {\n",
    "    \"name\": \"Degree2Polynomial\",\n",
    "    \"data_bulk_name\": \"damped_linear_theory\",\n",
    "    \"redo\": True,\n",
    "    \"num_realizations\": global_num_realizations,\n",
    "    \"state_dim\": global_state_dim,\n",
    "    \"enforce_positivity\": global_enforce_positivity, \n",
    "    \"show_equation\": global_show_equation,\n",
    "    \"observed_dimension\": None,\n",
    "    \"drift_params\": {\n",
    "        \"constant\": standard_normal_dist_with_bernoulli,\n",
    "        \"degree_1\": standard_normal_dist_with_bernoulli,\n",
    "        \"degree_2_squared\": standard_normal_dist_with_bernoulli,\n",
    "        \"degree_2_mixed\": standard_normal_dist_with_bernoulli,\n",
    "        \"scale\": scale_uniform\n",
    "    },\n",
    "    \"diffusion_params\": {\n",
    "        \"constant\": standard_normal_dist_with_bernoulli,\n",
    "        \"degree_1\": standard_normal_dist_with_bernoulli,\n",
    "        \"degree_2_squared\": standard_normal_dist_with_bernoulli,\n",
    "        \"degree_2_mixed\": standard_normal_dist_with_bernoulli,\n",
    "        \"scale\": scale_uniform\n",
    "    },\n",
    "    \"initial_state\": uniform_initial_state,\n",
    "}\n",
    "show_general_plots(Degree2Polynomial(process_hyperparameters))"
   ]
  },
  {
   "cell_type": "code",
   "execution_count": null,
   "id": "a84da0f8-db8a-4744-aabc-a925034bd7be",
   "metadata": {},
   "outputs": [],
   "source": []
  },
  {
   "cell_type": "markdown",
   "id": "a350dec6-6c81-435e-8559-e9739d0c4fa0",
   "metadata": {},
   "source": [
    "## Drift standard normal, diffusion constant + squared from U([0,1])"
   ]
  },
  {
   "cell_type": "code",
   "execution_count": null,
   "id": "73cee01d-211c-4997-bb8e-ca35b36e30e9",
   "metadata": {},
   "outputs": [],
   "source": [
    "process_hyperparameters = {\n",
    "    \"name\": \"Degree2Polynomial\",\n",
    "    \"data_bulk_name\": \"damped_linear_theory\",\n",
    "    \"redo\": True,\n",
    "    \"num_realizations\": global_num_realizations,\n",
    "    \"state_dim\": global_state_dim,\n",
    "    \"enforce_positivity\": global_enforce_positivity, \n",
    "    \"show_equation\": global_show_equation,\n",
    "    \"observed_dimension\": None,\n",
    "    \"drift_params\": {\n",
    "        \"constant\": zero_dist,\n",
    "        \"degree_1\": standard_normal_dist_with_bernoulli,\n",
    "        \"degree_2_squared\": standard_normal_dist_with_bernoulli,\n",
    "        \"degree_2_mixed\": zero_dist,\n",
    "        \"scale\": scale_uniform\n",
    "    },\n",
    "    \"diffusion_params\": {\n",
    "        \"constant\": uniform_0_1_dist,\n",
    "        \"degree_1\": zero_dist,\n",
    "        \"degree_2_squared\": uniform_0_1_dist,\n",
    "        \"degree_2_mixed\": zero_dist,\n",
    "        \"scale\": scale_uniform\n",
    "    },\n",
    "    \"initial_state\": uniform_initial_state,\n",
    "}\n",
    "show_general_plots(Degree2Polynomial(process_hyperparameters))"
   ]
  },
  {
   "cell_type": "code",
   "execution_count": null,
   "id": "e9d7f922-4daf-47a5-92c9-f42b5fb054fa",
   "metadata": {},
   "outputs": [],
   "source": []
  },
  {
   "cell_type": "markdown",
   "id": "76ef0e83-ca53-433a-9a6f-b091bfd3a91d",
   "metadata": {},
   "source": [
    "## Drift linear, Diffusion constant or squared"
   ]
  },
  {
   "cell_type": "code",
   "execution_count": null,
   "id": "2fa8eced-6ccd-435e-9462-2a0e07b7dcfc",
   "metadata": {},
   "outputs": [],
   "source": [
    "process_hyperparameters = {\n",
    "    \"name\": \"Degree2Polynomial\",\n",
    "    \"data_bulk_name\": \"damped_linear_theory\",\n",
    "    \"redo\": True,\n",
    "    \"num_realizations\": global_num_realizations,\n",
    "    \"state_dim\": global_state_dim,\n",
    "    \"enforce_positivity\": global_enforce_positivity, \n",
    "    \"show_equation\": global_show_equation,\n",
    "    \"observed_dimension\": None,\n",
    "    \"drift_params\": {\n",
    "        \"constant\": standard_normal_dist_with_bernoulli,\n",
    "        \"degree_1\": standard_normal_dist_with_bernoulli,\n",
    "        \"degree_2_squared\": zero_dist,\n",
    "        \"degree_2_mixed\": zero_dist,\n",
    "        \"scale\": scale_uniform\n",
    "    },\n",
    "    \"diffusion_params\": {\n",
    "        \"constant\": uniform_0_1_dist,\n",
    "        \"degree_1\": zero_dist,\n",
    "        \"degree_2_squared\": uniform_0_1_dist,\n",
    "        \"degree_2_mixed\": zero_dist,\n",
    "        \"scale\": scale_uniform\n",
    "    },\n",
    "    \"initial_state\": uniform_initial_state,\n",
    "}\n",
    "show_general_plots(Degree2Polynomial(process_hyperparameters))"
   ]
  },
  {
   "cell_type": "code",
   "execution_count": null,
   "id": "a610c14e-a336-4c30-be7a-5ea43f39357f",
   "metadata": {},
   "outputs": [],
   "source": []
  },
  {
   "cell_type": "markdown",
   "id": "1992a898-a183-4cb1-b369-647413b50720",
   "metadata": {},
   "source": [
    "## Linear drift, full diffusion"
   ]
  },
  {
   "cell_type": "code",
   "execution_count": null,
   "id": "49712d74-477e-4808-901c-afcf8cb204ec",
   "metadata": {},
   "outputs": [],
   "source": [
    "process_hyperparameters = {\n",
    "    \"name\": \"Degree2Polynomial\",\n",
    "    \"data_bulk_name\": \"damped_linear_theory\",\n",
    "    \"redo\": True,\n",
    "    \"num_realizations\": global_num_realizations,\n",
    "    \"state_dim\": global_state_dim,\n",
    "    \"enforce_positivity\": global_enforce_positivity, \n",
    "    \"show_equation\": global_show_equation,\n",
    "    \"observed_dimension\": None,\n",
    "    \"drift_params\": {\n",
    "        \"constant\": standard_normal_dist_with_bernoulli,\n",
    "        \"degree_1\": standard_normal_dist_with_bernoulli,\n",
    "        \"degree_2_squared\": zero_dist,\n",
    "        \"degree_2_mixed\": zero_dist,\n",
    "        \"scale\": scale_uniform\n",
    "    },\n",
    "    \"diffusion_params\": {\n",
    "        \"constant\": standard_normal_dist_with_bernoulli,\n",
    "        \"degree_1\": standard_normal_dist_with_bernoulli,\n",
    "        \"degree_2_squared\": standard_normal_dist_with_bernoulli,\n",
    "        \"degree_2_mixed\": standard_normal_dist_with_bernoulli,\n",
    "        \"scale\": scale_uniform\n",
    "    },\n",
    "    \"initial_state\": uniform_initial_state,\n",
    "}\n",
    "show_general_plots(Degree2Polynomial(process_hyperparameters))"
   ]
  },
  {
   "cell_type": "code",
   "execution_count": null,
   "id": "8527c70e-a062-41f3-9d1d-2026ab60d5cf",
   "metadata": {},
   "outputs": [],
   "source": []
  },
  {
   "cell_type": "code",
   "execution_count": null,
   "id": "e28571cc-75d7-4db1-8c56-363243ae9f62",
   "metadata": {},
   "outputs": [],
   "source": []
  },
  {
   "cell_type": "code",
   "execution_count": null,
   "id": "84138a0b-611a-4179-a8e9-2263b3a8a122",
   "metadata": {},
   "outputs": [],
   "source": []
  }
 ],
 "metadata": {
  "kernelspec": {
   "display_name": "venv",
   "language": "python",
   "name": "venv"
  },
  "language_info": {
   "codemirror_mode": {
    "name": "ipython",
    "version": 3
   },
   "file_extension": ".py",
   "mimetype": "text/x-python",
   "name": "python",
   "nbconvert_exporter": "python",
   "pygments_lexer": "ipython3",
   "version": "3.13.0"
  }
 },
 "nbformat": 4,
 "nbformat_minor": 5
}
