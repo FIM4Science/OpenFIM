{
 "cells": [
  {
   "cell_type": "code",
   "execution_count": 2,
   "metadata": {},
   "outputs": [],
   "source": [
    "import os\n",
    "import fim\n",
    "import torch\n",
    "import numpy as np\n",
    "\n",
    "from torch import nn\n",
    "from torch.utils.data import DataLoader\n",
    "from fim.data.dataloaders import DataLoaderFactory\n",
    "from fim.utils.helper import GenericConfig, expand_params, load_yaml\n",
    "\n",
    "from fim.data.datasets import FIMSDEDataset, FIMSDEDatabatchTuple\n",
    "from fim.data.config_dataclasses import FIMDatasetConfig\n",
    "from fim.models.blocks import ModelFactory\n",
    "from fim.models.config_dataclasses import FIMSDEConfig\n",
    "from fim.data.config_dataclasses import FIMDatasetConfig\n",
    "from fim.models.sde import FIMSDE\n",
    "from fim.utils.experiment_files import ExperimentsFiles"
   ]
  },
  {
   "cell_type": "code",
   "execution_count": 3,
   "metadata": {},
   "outputs": [],
   "source": [
    "experiment_dir = r\"C:\\Users\\cesar\\Desktop\\Projects\\FoundationModels\\FIM\\results\\1732042941\"\n",
    "experiments_files = ExperimentsFiles(experiment_dir=experiment_dir)"
   ]
  },
  {
   "cell_type": "code",
   "execution_count": null,
   "metadata": {},
   "outputs": [],
   "source": []
  }
 ],
 "metadata": {
  "kernelspec": {
   "display_name": "fim",
   "language": "python",
   "name": "python3"
  },
  "language_info": {
   "codemirror_mode": {
    "name": "ipython",
    "version": 3
   },
   "file_extension": ".py",
   "mimetype": "text/x-python",
   "name": "python",
   "nbconvert_exporter": "python",
   "pygments_lexer": "ipython3",
   "version": "3.10.15"
  }
 },
 "nbformat": 4,
 "nbformat_minor": 2
}
